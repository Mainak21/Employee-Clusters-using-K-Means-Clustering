{
 "cells": [
  {
   "cell_type": "markdown",
   "id": "d17d3661",
   "metadata": {},
   "source": [
    "# EDA and Clustering of Employee Dataset"
   ]
  },
  {
   "cell_type": "markdown",
   "id": "30e1a916",
   "metadata": {},
   "source": [
    "## Exploratory data analysis"
   ]
  },
  {
   "cell_type": "code",
   "execution_count": 1,
   "id": "28ea71f4",
   "metadata": {},
   "outputs": [],
   "source": [
    "%matplotlib inline\n",
    "import pandas as pd                                   #for data processing ; conda install pandas\n",
    "import numpy as np                                    #for math            ; conda install numpy\n",
    "import seaborn as sns                                 #for plotting        ; conda install seaborn\n",
    "import matplotlib.pyplot as plt                       #for ploting         ; conda install matplotlib\n",
    "from sklearn.preprocessing import MinMaxScaler        #for scaling         ; conda install -c conda-forge scikit-learn"
   ]
  },
  {
   "cell_type": "code",
   "execution_count": 2,
   "id": "e1f91354",
   "metadata": {},
   "outputs": [
    {
     "data": {
      "text/html": [
       "<div>\n",
       "<style scoped>\n",
       "    .dataframe tbody tr th:only-of-type {\n",
       "        vertical-align: middle;\n",
       "    }\n",
       "\n",
       "    .dataframe tbody tr th {\n",
       "        vertical-align: top;\n",
       "    }\n",
       "\n",
       "    .dataframe thead th {\n",
       "        text-align: right;\n",
       "    }\n",
       "</style>\n",
       "<table border=\"1\" class=\"dataframe\">\n",
       "  <thead>\n",
       "    <tr style=\"text-align: right;\">\n",
       "      <th></th>\n",
       "      <th>candidateName</th>\n",
       "      <th>companyName</th>\n",
       "      <th>designation</th>\n",
       "      <th>emailAddress</th>\n",
       "      <th>experienceMas</th>\n",
       "      <th>locationCurrentMas</th>\n",
       "      <th>qualificationMas</th>\n",
       "      <th>qualificationMas2</th>\n",
       "      <th>salary</th>\n",
       "      <th>tel_Other</th>\n",
       "      <th>Category</th>\n",
       "    </tr>\n",
       "  </thead>\n",
       "  <tbody>\n",
       "    <tr>\n",
       "      <th>0</th>\n",
       "      <td>Ruchismita Dash</td>\n",
       "      <td>Amdocs</td>\n",
       "      <td>Software Developer</td>\n",
       "      <td>ruchidash89@gmail.com</td>\n",
       "      <td>2 Year(s) 1 Month(s)</td>\n",
       "      <td>Hyderabad/ Secunderabad</td>\n",
       "      <td>BE/ B.Tech (Engineering)</td>\n",
       "      <td>NaN</td>\n",
       "      <td>Rs. 6.71 lacs</td>\n",
       "      <td>8390909230</td>\n",
       "      <td>HYDERABAD-SALARIED</td>\n",
       "    </tr>\n",
       "    <tr>\n",
       "      <th>1</th>\n",
       "      <td>MANISHA DAS</td>\n",
       "      <td>APOLLO HOSPITALS ENTERPRISES LIMITED</td>\n",
       "      <td>SENIOR EXECUTIVE-OPERATIONS</td>\n",
       "      <td>manisha.das82@gmail.com</td>\n",
       "      <td>5 Year(s) 9 Month(s)</td>\n",
       "      <td>Hyderabad/ Secunderabad</td>\n",
       "      <td>MBA/ PGDM</td>\n",
       "      <td>B.Pharm. (Pharmacy)</td>\n",
       "      <td>Rs. 5.0 lacs</td>\n",
       "      <td>9701900131</td>\n",
       "      <td>HYDERABAD-SALARIED</td>\n",
       "    </tr>\n",
       "    <tr>\n",
       "      <th>2</th>\n",
       "      <td>C J GEETHA PRIYA</td>\n",
       "      <td>propertyoneshop.com</td>\n",
       "      <td>System Administrator</td>\n",
       "      <td>geethapriya89@gmail.com</td>\n",
       "      <td>4 Year(s) 4 Month(s)</td>\n",
       "      <td>Hyderabad/ Secunderabad</td>\n",
       "      <td>B.Com. (Commerce)</td>\n",
       "      <td>NaN</td>\n",
       "      <td>Rs. 84.0 lacs</td>\n",
       "      <td>9705407817</td>\n",
       "      <td>HYDERABAD-SALARIED</td>\n",
       "    </tr>\n",
       "    <tr>\n",
       "      <th>3</th>\n",
       "      <td>SRIKANTH</td>\n",
       "      <td>Axis Bank Ltd</td>\n",
       "      <td>NaN</td>\n",
       "      <td>sburisetty@gmail.com</td>\n",
       "      <td>7 Year(s) 11 Month(s)</td>\n",
       "      <td>Hyderabad/ Secunderabad</td>\n",
       "      <td>NaN</td>\n",
       "      <td>MBA/ PGDM</td>\n",
       "      <td>Rs. 7.0 lacs</td>\n",
       "      <td>8142444544</td>\n",
       "      <td>HYDERABAD-SALARIED</td>\n",
       "    </tr>\n",
       "    <tr>\n",
       "      <th>4</th>\n",
       "      <td>Madduri Srinivas</td>\n",
       "      <td>CTS</td>\n",
       "      <td>Associate Projects</td>\n",
       "      <td>madduri12@gmail.com</td>\n",
       "      <td>6 Year(s) 8 Month(s)</td>\n",
       "      <td>Hyderabad/ Secunderabad</td>\n",
       "      <td>B.Com. (Commerce)</td>\n",
       "      <td>MCA/ PGDCA</td>\n",
       "      <td>Rs. 8.05 lacs</td>\n",
       "      <td>9581812128</td>\n",
       "      <td>HYDERABAD-SALARIED</td>\n",
       "    </tr>\n",
       "  </tbody>\n",
       "</table>\n",
       "</div>"
      ],
      "text/plain": [
       "      candidateName                            companyName  \\\n",
       "0   Ruchismita Dash                                Amdocs    \n",
       "1       MANISHA DAS  APOLLO HOSPITALS ENTERPRISES LIMITED    \n",
       "2  C J GEETHA PRIYA                   propertyoneshop.com    \n",
       "3          SRIKANTH                         Axis Bank Ltd    \n",
       "4  Madduri Srinivas                                   CTS    \n",
       "\n",
       "                   designation             emailAddress  \\\n",
       "0           Software Developer    ruchidash89@gmail.com   \n",
       "1  SENIOR EXECUTIVE-OPERATIONS  manisha.das82@gmail.com   \n",
       "2         System Administrator  geethapriya89@gmail.com   \n",
       "3                          NaN     sburisetty@gmail.com   \n",
       "4           Associate Projects      madduri12@gmail.com   \n",
       "\n",
       "           experienceMas       locationCurrentMas          qualificationMas  \\\n",
       "0   2 Year(s) 1 Month(s)  Hyderabad/ Secunderabad  BE/ B.Tech (Engineering)   \n",
       "1   5 Year(s) 9 Month(s)  Hyderabad/ Secunderabad                 MBA/ PGDM   \n",
       "2   4 Year(s) 4 Month(s)  Hyderabad/ Secunderabad         B.Com. (Commerce)   \n",
       "3  7 Year(s) 11 Month(s)  Hyderabad/ Secunderabad                       NaN   \n",
       "4   6 Year(s) 8 Month(s)  Hyderabad/ Secunderabad         B.Com. (Commerce)   \n",
       "\n",
       "     qualificationMas2         salary   tel_Other            Category  \n",
       "0                  NaN  Rs. 6.71 lacs  8390909230  HYDERABAD-SALARIED  \n",
       "1  B.Pharm. (Pharmacy)   Rs. 5.0 lacs  9701900131  HYDERABAD-SALARIED  \n",
       "2                  NaN  Rs. 84.0 lacs  9705407817  HYDERABAD-SALARIED  \n",
       "3            MBA/ PGDM   Rs. 7.0 lacs  8142444544  HYDERABAD-SALARIED  \n",
       "4           MCA/ PGDCA  Rs. 8.05 lacs  9581812128  HYDERABAD-SALARIED  "
      ]
     },
     "execution_count": 2,
     "metadata": {},
     "output_type": "execute_result"
    }
   ],
   "source": [
    "data = pd.read_csv(\"/Users/mainak01/Desktop/CAPL/employees.csv\")  #loading csv file according to my directory\n",
    "data.head() #first 5 rows"
   ]
  },
  {
   "cell_type": "code",
   "execution_count": 3,
   "id": "f2747635",
   "metadata": {},
   "outputs": [
    {
     "data": {
      "text/html": [
       "<div>\n",
       "<style scoped>\n",
       "    .dataframe tbody tr th:only-of-type {\n",
       "        vertical-align: middle;\n",
       "    }\n",
       "\n",
       "    .dataframe tbody tr th {\n",
       "        vertical-align: top;\n",
       "    }\n",
       "\n",
       "    .dataframe thead th {\n",
       "        text-align: right;\n",
       "    }\n",
       "</style>\n",
       "<table border=\"1\" class=\"dataframe\">\n",
       "  <thead>\n",
       "    <tr style=\"text-align: right;\">\n",
       "      <th></th>\n",
       "      <th>candidateName</th>\n",
       "      <th>companyName</th>\n",
       "      <th>designation</th>\n",
       "      <th>emailAddress</th>\n",
       "      <th>experienceMas</th>\n",
       "      <th>locationCurrentMas</th>\n",
       "      <th>qualificationMas</th>\n",
       "      <th>qualificationMas2</th>\n",
       "      <th>salary</th>\n",
       "      <th>tel_Other</th>\n",
       "      <th>Category</th>\n",
       "    </tr>\n",
       "  </thead>\n",
       "  <tbody>\n",
       "    <tr>\n",
       "      <th>28842</th>\n",
       "      <td>Nadeem Haider</td>\n",
       "      <td>SOTC KUONI TRAVEL INDIA PVT LTD</td>\n",
       "      <td>Sr. Manager</td>\n",
       "      <td>nhaidar16@gmail.com</td>\n",
       "      <td>13 Year(s)</td>\n",
       "      <td>Hyderabad/ Secunderabad</td>\n",
       "      <td>B.Sc. (Science)</td>\n",
       "      <td>NaN</td>\n",
       "      <td>Rs. 10.09 lacs</td>\n",
       "      <td>9999345083</td>\n",
       "      <td>HYDERABAD-SALARIED</td>\n",
       "    </tr>\n",
       "    <tr>\n",
       "      <th>28843</th>\n",
       "      <td>Debabrata Karmakar</td>\n",
       "      <td>Ibm Global Services</td>\n",
       "      <td>Database Administrator</td>\n",
       "      <td>debabrata_kk@rediffmail.com</td>\n",
       "      <td>11 Year(s)</td>\n",
       "      <td>Hyderabad/ Secunderabad</td>\n",
       "      <td>B.Com. (Commerce)</td>\n",
       "      <td>NaN</td>\n",
       "      <td>Rs. 7.0 lacs</td>\n",
       "      <td>9999623384</td>\n",
       "      <td>HYDERABAD-SALARIED</td>\n",
       "    </tr>\n",
       "    <tr>\n",
       "      <th>28844</th>\n",
       "      <td>Chirag Jain</td>\n",
       "      <td>Computer Sciences Corp Ltd  ( csc )</td>\n",
       "      <td>associate professional</td>\n",
       "      <td>cjain.18@gmail.com</td>\n",
       "      <td>1 Year(s) 11 Month(s)</td>\n",
       "      <td>Hyderabad/ Secunderabad</td>\n",
       "      <td>BE/ B.Tech (Engineering)</td>\n",
       "      <td>NaN</td>\n",
       "      <td>Rs. 5.22 lacs</td>\n",
       "      <td>9999684333</td>\n",
       "      <td>HYDERABAD-SALARIED</td>\n",
       "    </tr>\n",
       "    <tr>\n",
       "      <th>28845</th>\n",
       "      <td>Kunal Sachdeva</td>\n",
       "      <td>Religare Enterprises</td>\n",
       "      <td>Business Analyst</td>\n",
       "      <td>kunalsachdeva1@gmail.com</td>\n",
       "      <td>5 Year(s) 8 Month(s)</td>\n",
       "      <td>Hyderabad/ Secunderabad</td>\n",
       "      <td>BE/ B.Tech (Engineering)</td>\n",
       "      <td>12th &amp; Not Pursuing Graduation</td>\n",
       "      <td>Rs. 5.05 lacs</td>\n",
       "      <td>9999777357</td>\n",
       "      <td>HYDERABAD-SALARIED</td>\n",
       "    </tr>\n",
       "    <tr>\n",
       "      <th>28846</th>\n",
       "      <td>Anuradha Sethi</td>\n",
       "      <td>Infosys</td>\n",
       "      <td>NaN</td>\n",
       "      <td>anuradhasethi12@gmail.com</td>\n",
       "      <td>4 Month(s)</td>\n",
       "      <td>Hyderabad/ Secunderabad</td>\n",
       "      <td>NaN</td>\n",
       "      <td>M.Sc. (Science)</td>\n",
       "      <td>Rs. 7.5 lacs</td>\n",
       "      <td>9999828573</td>\n",
       "      <td>HYDERABAD-SALARIED</td>\n",
       "    </tr>\n",
       "  </tbody>\n",
       "</table>\n",
       "</div>"
      ],
      "text/plain": [
       "            candidateName                           companyName  \\\n",
       "28842       Nadeem Haider      SOTC KUONI TRAVEL INDIA PVT LTD    \n",
       "28843  Debabrata Karmakar                  Ibm Global Services    \n",
       "28844         Chirag Jain  Computer Sciences Corp Ltd  ( csc )    \n",
       "28845      Kunal Sachdeva                 Religare Enterprises    \n",
       "28846      Anuradha Sethi                              Infosys    \n",
       "\n",
       "                  designation                 emailAddress  \\\n",
       "28842             Sr. Manager          nhaidar16@gmail.com   \n",
       "28843  Database Administrator  debabrata_kk@rediffmail.com   \n",
       "28844  associate professional           cjain.18@gmail.com   \n",
       "28845        Business Analyst     kunalsachdeva1@gmail.com   \n",
       "28846                     NaN    anuradhasethi12@gmail.com   \n",
       "\n",
       "               experienceMas       locationCurrentMas  \\\n",
       "28842            13 Year(s)   Hyderabad/ Secunderabad   \n",
       "28843            11 Year(s)   Hyderabad/ Secunderabad   \n",
       "28844  1 Year(s) 11 Month(s)  Hyderabad/ Secunderabad   \n",
       "28845   5 Year(s) 8 Month(s)  Hyderabad/ Secunderabad   \n",
       "28846             4 Month(s)  Hyderabad/ Secunderabad   \n",
       "\n",
       "               qualificationMas               qualificationMas2  \\\n",
       "28842           B.Sc. (Science)                             NaN   \n",
       "28843         B.Com. (Commerce)                             NaN   \n",
       "28844  BE/ B.Tech (Engineering)                             NaN   \n",
       "28845  BE/ B.Tech (Engineering)  12th & Not Pursuing Graduation   \n",
       "28846                       NaN                 M.Sc. (Science)   \n",
       "\n",
       "               salary   tel_Other            Category  \n",
       "28842  Rs. 10.09 lacs  9999345083  HYDERABAD-SALARIED  \n",
       "28843    Rs. 7.0 lacs  9999623384  HYDERABAD-SALARIED  \n",
       "28844   Rs. 5.22 lacs  9999684333  HYDERABAD-SALARIED  \n",
       "28845   Rs. 5.05 lacs  9999777357  HYDERABAD-SALARIED  \n",
       "28846    Rs. 7.5 lacs  9999828573  HYDERABAD-SALARIED  "
      ]
     },
     "execution_count": 3,
     "metadata": {},
     "output_type": "execute_result"
    }
   ],
   "source": [
    "data.tail()    #last 5 rows"
   ]
  },
  {
   "cell_type": "code",
   "execution_count": 4,
   "id": "22b4efbb",
   "metadata": {},
   "outputs": [
    {
     "data": {
      "text/plain": [
       "(28847, 11)"
      ]
     },
     "execution_count": 4,
     "metadata": {},
     "output_type": "execute_result"
    }
   ],
   "source": [
    "data.shape      #no. of rows and columns"
   ]
  },
  {
   "cell_type": "code",
   "execution_count": 5,
   "id": "7d2d549f",
   "metadata": {},
   "outputs": [
    {
     "data": {
      "text/plain": [
       "Index(['candidateName', 'companyName', 'designation', 'emailAddress',\n",
       "       'experienceMas', 'locationCurrentMas', 'qualificationMas',\n",
       "       'qualificationMas2', 'salary', 'tel_Other', 'Category'],\n",
       "      dtype='object')"
      ]
     },
     "execution_count": 5,
     "metadata": {},
     "output_type": "execute_result"
    }
   ],
   "source": [
    "data.columns    #column names"
   ]
  },
  {
   "cell_type": "code",
   "execution_count": 6,
   "id": "60fd2462",
   "metadata": {},
   "outputs": [
    {
     "data": {
      "text/plain": [
       "candidateName         27288\n",
       "companyName           15153\n",
       "designation           12636\n",
       "emailAddress          28806\n",
       "experienceMas           492\n",
       "locationCurrentMas        3\n",
       "qualificationMas         51\n",
       "qualificationMas2        48\n",
       "salary                 1560\n",
       "tel_Other             28847\n",
       "Category                  1\n",
       "dtype: int64"
      ]
     },
     "execution_count": 6,
     "metadata": {},
     "output_type": "execute_result"
    }
   ],
   "source": [
    "data.nunique()   #no. of types of each columns"
   ]
  },
  {
   "cell_type": "code",
   "execution_count": 7,
   "id": "c5082599",
   "metadata": {},
   "outputs": [
    {
     "data": {
      "text/plain": [
       "array(['Software Developer', 'SENIOR EXECUTIVE-OPERATIONS',\n",
       "       'System Administrator', ..., '3d visualizer',\n",
       "       'Sr. Associate / Team Lead', 'associate professional'],\n",
       "      dtype=object)"
      ]
     },
     "execution_count": 7,
     "metadata": {},
     "output_type": "execute_result"
    }
   ],
   "source": [
    "data['designation'].unique()      #list of different designations"
   ]
  },
  {
   "cell_type": "code",
   "execution_count": 8,
   "id": "f6927329",
   "metadata": {},
   "outputs": [],
   "source": [
    "#data cleaning"
   ]
  },
  {
   "cell_type": "code",
   "execution_count": 9,
   "id": "d4cf9a98",
   "metadata": {},
   "outputs": [
    {
     "data": {
      "text/plain": [
       "candidateName             4\n",
       "companyName              41\n",
       "designation            4630\n",
       "emailAddress             12\n",
       "experienceMas             0\n",
       "locationCurrentMas        0\n",
       "qualificationMas       4876\n",
       "qualificationMas2     13398\n",
       "salary                    0\n",
       "tel_Other                 0\n",
       "Category                  0\n",
       "dtype: int64"
      ]
     },
     "execution_count": 9,
     "metadata": {},
     "output_type": "execute_result"
    }
   ],
   "source": [
    "data.isnull().sum()  #checking null values"
   ]
  },
  {
   "cell_type": "code",
   "execution_count": 10,
   "id": "eae822d8",
   "metadata": {},
   "outputs": [],
   "source": [
    "# our main focus would be in experienceMas and salary. So no need to clean the data now, as there are no null values in both of them"
   ]
  },
  {
   "cell_type": "code",
   "execution_count": 11,
   "id": "11d4b057",
   "metadata": {},
   "outputs": [],
   "source": [
    "# Lets convert experinceMas and salary in decimal values"
   ]
  },
  {
   "cell_type": "code",
   "execution_count": 12,
   "id": "20305ab3",
   "metadata": {},
   "outputs": [
    {
     "data": {
      "text/html": [
       "<div>\n",
       "<style scoped>\n",
       "    .dataframe tbody tr th:only-of-type {\n",
       "        vertical-align: middle;\n",
       "    }\n",
       "\n",
       "    .dataframe tbody tr th {\n",
       "        vertical-align: top;\n",
       "    }\n",
       "\n",
       "    .dataframe thead th {\n",
       "        text-align: right;\n",
       "    }\n",
       "</style>\n",
       "<table border=\"1\" class=\"dataframe\">\n",
       "  <thead>\n",
       "    <tr style=\"text-align: right;\">\n",
       "      <th></th>\n",
       "      <th>candidateName</th>\n",
       "      <th>companyName</th>\n",
       "      <th>designation</th>\n",
       "      <th>emailAddress</th>\n",
       "      <th>experienceMas</th>\n",
       "      <th>locationCurrentMas</th>\n",
       "      <th>qualificationMas</th>\n",
       "      <th>qualificationMas2</th>\n",
       "      <th>salary</th>\n",
       "      <th>tel_Other</th>\n",
       "      <th>Category</th>\n",
       "      <th>SalaryInLacs</th>\n",
       "      <th>ExpYear</th>\n",
       "      <th>ExpMonth</th>\n",
       "    </tr>\n",
       "  </thead>\n",
       "  <tbody>\n",
       "    <tr>\n",
       "      <th>0</th>\n",
       "      <td>Ruchismita Dash</td>\n",
       "      <td>Amdocs</td>\n",
       "      <td>Software Developer</td>\n",
       "      <td>ruchidash89@gmail.com</td>\n",
       "      <td>2 Year(s) 1 Month(s)</td>\n",
       "      <td>Hyderabad/ Secunderabad</td>\n",
       "      <td>BE/ B.Tech (Engineering)</td>\n",
       "      <td>NaN</td>\n",
       "      <td>Rs. 6.71 lacs</td>\n",
       "      <td>8390909230</td>\n",
       "      <td>HYDERABAD-SALARIED</td>\n",
       "      <td>6.71</td>\n",
       "      <td>2</td>\n",
       "      <td>1</td>\n",
       "    </tr>\n",
       "    <tr>\n",
       "      <th>1</th>\n",
       "      <td>MANISHA DAS</td>\n",
       "      <td>APOLLO HOSPITALS ENTERPRISES LIMITED</td>\n",
       "      <td>SENIOR EXECUTIVE-OPERATIONS</td>\n",
       "      <td>manisha.das82@gmail.com</td>\n",
       "      <td>5 Year(s) 9 Month(s)</td>\n",
       "      <td>Hyderabad/ Secunderabad</td>\n",
       "      <td>MBA/ PGDM</td>\n",
       "      <td>B.Pharm. (Pharmacy)</td>\n",
       "      <td>Rs. 5.0 lacs</td>\n",
       "      <td>9701900131</td>\n",
       "      <td>HYDERABAD-SALARIED</td>\n",
       "      <td>5.0</td>\n",
       "      <td>5</td>\n",
       "      <td>9</td>\n",
       "    </tr>\n",
       "    <tr>\n",
       "      <th>2</th>\n",
       "      <td>C J GEETHA PRIYA</td>\n",
       "      <td>propertyoneshop.com</td>\n",
       "      <td>System Administrator</td>\n",
       "      <td>geethapriya89@gmail.com</td>\n",
       "      <td>4 Year(s) 4 Month(s)</td>\n",
       "      <td>Hyderabad/ Secunderabad</td>\n",
       "      <td>B.Com. (Commerce)</td>\n",
       "      <td>NaN</td>\n",
       "      <td>Rs. 84.0 lacs</td>\n",
       "      <td>9705407817</td>\n",
       "      <td>HYDERABAD-SALARIED</td>\n",
       "      <td>84.0</td>\n",
       "      <td>4</td>\n",
       "      <td>4</td>\n",
       "    </tr>\n",
       "    <tr>\n",
       "      <th>3</th>\n",
       "      <td>SRIKANTH</td>\n",
       "      <td>Axis Bank Ltd</td>\n",
       "      <td>NaN</td>\n",
       "      <td>sburisetty@gmail.com</td>\n",
       "      <td>7 Year(s) 11 Month(s)</td>\n",
       "      <td>Hyderabad/ Secunderabad</td>\n",
       "      <td>NaN</td>\n",
       "      <td>MBA/ PGDM</td>\n",
       "      <td>Rs. 7.0 lacs</td>\n",
       "      <td>8142444544</td>\n",
       "      <td>HYDERABAD-SALARIED</td>\n",
       "      <td>7.0</td>\n",
       "      <td>7</td>\n",
       "      <td>11</td>\n",
       "    </tr>\n",
       "    <tr>\n",
       "      <th>4</th>\n",
       "      <td>Madduri Srinivas</td>\n",
       "      <td>CTS</td>\n",
       "      <td>Associate Projects</td>\n",
       "      <td>madduri12@gmail.com</td>\n",
       "      <td>6 Year(s) 8 Month(s)</td>\n",
       "      <td>Hyderabad/ Secunderabad</td>\n",
       "      <td>B.Com. (Commerce)</td>\n",
       "      <td>MCA/ PGDCA</td>\n",
       "      <td>Rs. 8.05 lacs</td>\n",
       "      <td>9581812128</td>\n",
       "      <td>HYDERABAD-SALARIED</td>\n",
       "      <td>8.05</td>\n",
       "      <td>6</td>\n",
       "      <td>8</td>\n",
       "    </tr>\n",
       "  </tbody>\n",
       "</table>\n",
       "</div>"
      ],
      "text/plain": [
       "      candidateName                            companyName  \\\n",
       "0   Ruchismita Dash                                Amdocs    \n",
       "1       MANISHA DAS  APOLLO HOSPITALS ENTERPRISES LIMITED    \n",
       "2  C J GEETHA PRIYA                   propertyoneshop.com    \n",
       "3          SRIKANTH                         Axis Bank Ltd    \n",
       "4  Madduri Srinivas                                   CTS    \n",
       "\n",
       "                   designation             emailAddress  \\\n",
       "0           Software Developer    ruchidash89@gmail.com   \n",
       "1  SENIOR EXECUTIVE-OPERATIONS  manisha.das82@gmail.com   \n",
       "2         System Administrator  geethapriya89@gmail.com   \n",
       "3                          NaN     sburisetty@gmail.com   \n",
       "4           Associate Projects      madduri12@gmail.com   \n",
       "\n",
       "           experienceMas       locationCurrentMas          qualificationMas  \\\n",
       "0   2 Year(s) 1 Month(s)  Hyderabad/ Secunderabad  BE/ B.Tech (Engineering)   \n",
       "1   5 Year(s) 9 Month(s)  Hyderabad/ Secunderabad                 MBA/ PGDM   \n",
       "2   4 Year(s) 4 Month(s)  Hyderabad/ Secunderabad         B.Com. (Commerce)   \n",
       "3  7 Year(s) 11 Month(s)  Hyderabad/ Secunderabad                       NaN   \n",
       "4   6 Year(s) 8 Month(s)  Hyderabad/ Secunderabad         B.Com. (Commerce)   \n",
       "\n",
       "     qualificationMas2         salary   tel_Other            Category  \\\n",
       "0                  NaN  Rs. 6.71 lacs  8390909230  HYDERABAD-SALARIED   \n",
       "1  B.Pharm. (Pharmacy)   Rs. 5.0 lacs  9701900131  HYDERABAD-SALARIED   \n",
       "2                  NaN  Rs. 84.0 lacs  9705407817  HYDERABAD-SALARIED   \n",
       "3            MBA/ PGDM   Rs. 7.0 lacs  8142444544  HYDERABAD-SALARIED   \n",
       "4           MCA/ PGDCA  Rs. 8.05 lacs  9581812128  HYDERABAD-SALARIED   \n",
       "\n",
       "  SalaryInLacs ExpYear ExpMonth  \n",
       "0         6.71       2        1  \n",
       "1          5.0       5        9  \n",
       "2         84.0       4        4  \n",
       "3          7.0       7       11  \n",
       "4         8.05       6        8  "
      ]
     },
     "execution_count": 12,
     "metadata": {},
     "output_type": "execute_result"
    }
   ],
   "source": [
    "data['SalaryInLacs'] = data.salary.str.split().str.get(1)      #segregating the salary numbers\n",
    "data['ExpYear'] = data.experienceMas.str.split().str.get(0)      #segregating the year value\n",
    "data['ExpMonth'] = data.experienceMas.str.split().str.get(2)     #segregating the month value\n",
    "data.head()"
   ]
  },
  {
   "cell_type": "code",
   "execution_count": 13,
   "id": "d7d7ade3",
   "metadata": {},
   "outputs": [
    {
     "data": {
      "text/plain": [
       "array(['2', '5', '4', '7', '6', '20', '11', '12', '13', '9', '10', '15',\n",
       "       '3', '23', '19', '8', '17', '1', '22', '18', '24', '14', '26',\n",
       "       '44', '16', '25', '30', '21', '29', '32', '36', '35', '33', '28',\n",
       "       '42', '40', '38', '27', '31', '34', '37', '80', '41', '60',\n",
       "       'Fresher', '50', '75', '43', '81', '39', '57', '45', '46', '85',\n",
       "       '66', '52', '90', '63'], dtype=object)"
      ]
     },
     "execution_count": 13,
     "metadata": {},
     "output_type": "execute_result"
    }
   ],
   "source": [
    "data['ExpYear'].unique()     # checking the values. Replace the words with numbers"
   ]
  },
  {
   "cell_type": "code",
   "execution_count": 14,
   "id": "53128d5d",
   "metadata": {},
   "outputs": [
    {
     "data": {
      "text/plain": [
       "array(['2', '5', '4', '7', '6', '20', '11', '12', '13', '9', '10', '15',\n",
       "       '3', '23', '19', '8', '17', '1', '22', '18', '24', '14', '26',\n",
       "       '44', '16', '25', '30', '21', '29', '32', '36', '35', '33', '28',\n",
       "       '42', '40', '38', '27', '31', '34', '37', '80', '41', '60', '0',\n",
       "       '50', '75', '43', '81', '39', '57', '45', '46', '85', '66', '52',\n",
       "       '90', '63'], dtype=object)"
      ]
     },
     "execution_count": 14,
     "metadata": {},
     "output_type": "execute_result"
    }
   ],
   "source": [
    "data['ExpYear'] = data['ExpYear'].str.replace('Fresher','0')\n",
    "data['ExpYear'].unique()    #okay it is replaced. But they are still strings. Lets check other columns."
   ]
  },
  {
   "cell_type": "code",
   "execution_count": 15,
   "id": "bf08d735",
   "metadata": {},
   "outputs": [
    {
     "data": {
      "text/plain": [
       "array(['1', '9', '4', '11', '8', '2', nan, '6', '10', '7', '3', '5'],\n",
       "      dtype=object)"
      ]
     },
     "execution_count": 15,
     "metadata": {},
     "output_type": "execute_result"
    }
   ],
   "source": [
    "data['ExpMonth'].unique()    #Replace nan with zero"
   ]
  },
  {
   "cell_type": "code",
   "execution_count": 16,
   "id": "6373a6a0",
   "metadata": {},
   "outputs": [
    {
     "data": {
      "text/plain": [
       "array(['1', '9', '4', '11', '8', '2', '0', '6', '10', '7', '3', '5'],\n",
       "      dtype=object)"
      ]
     },
     "execution_count": 16,
     "metadata": {},
     "output_type": "execute_result"
    }
   ],
   "source": [
    "data['ExpMonth'] = data['ExpMonth'].replace(np.nan,'0')\n",
    "data['ExpMonth'].unique()   #nan is replaced. They are still strings."
   ]
  },
  {
   "cell_type": "code",
   "execution_count": 17,
   "id": "30d1b4c3",
   "metadata": {},
   "outputs": [
    {
     "data": {
      "text/plain": [
       "array(['6.71', '5.0', '84.0', ..., '15.74', '18.95', '11.92'],\n",
       "      dtype=object)"
      ]
     },
     "execution_count": 17,
     "metadata": {},
     "output_type": "execute_result"
    }
   ],
   "source": [
    "data['SalaryInLacs'].unique()     #All are strings. We have to convert them in floating values"
   ]
  },
  {
   "cell_type": "code",
   "execution_count": 18,
   "id": "00a7d0bc",
   "metadata": {},
   "outputs": [
    {
     "data": {
      "text/html": [
       "<div>\n",
       "<style scoped>\n",
       "    .dataframe tbody tr th:only-of-type {\n",
       "        vertical-align: middle;\n",
       "    }\n",
       "\n",
       "    .dataframe tbody tr th {\n",
       "        vertical-align: top;\n",
       "    }\n",
       "\n",
       "    .dataframe thead th {\n",
       "        text-align: right;\n",
       "    }\n",
       "</style>\n",
       "<table border=\"1\" class=\"dataframe\">\n",
       "  <thead>\n",
       "    <tr style=\"text-align: right;\">\n",
       "      <th></th>\n",
       "      <th>candidateName</th>\n",
       "      <th>companyName</th>\n",
       "      <th>designation</th>\n",
       "      <th>emailAddress</th>\n",
       "      <th>experienceMas</th>\n",
       "      <th>locationCurrentMas</th>\n",
       "      <th>qualificationMas</th>\n",
       "      <th>qualificationMas2</th>\n",
       "      <th>salary</th>\n",
       "      <th>tel_Other</th>\n",
       "      <th>Category</th>\n",
       "      <th>SalaryInLacs</th>\n",
       "      <th>ExpYear</th>\n",
       "      <th>ExpMonth</th>\n",
       "    </tr>\n",
       "  </thead>\n",
       "  <tbody>\n",
       "    <tr>\n",
       "      <th>0</th>\n",
       "      <td>Ruchismita Dash</td>\n",
       "      <td>Amdocs</td>\n",
       "      <td>Software Developer</td>\n",
       "      <td>ruchidash89@gmail.com</td>\n",
       "      <td>2 Year(s) 1 Month(s)</td>\n",
       "      <td>Hyderabad/ Secunderabad</td>\n",
       "      <td>BE/ B.Tech (Engineering)</td>\n",
       "      <td>NaN</td>\n",
       "      <td>Rs. 6.71 lacs</td>\n",
       "      <td>8390909230</td>\n",
       "      <td>HYDERABAD-SALARIED</td>\n",
       "      <td>6.71</td>\n",
       "      <td>2.0</td>\n",
       "      <td>1.0</td>\n",
       "    </tr>\n",
       "    <tr>\n",
       "      <th>1</th>\n",
       "      <td>MANISHA DAS</td>\n",
       "      <td>APOLLO HOSPITALS ENTERPRISES LIMITED</td>\n",
       "      <td>SENIOR EXECUTIVE-OPERATIONS</td>\n",
       "      <td>manisha.das82@gmail.com</td>\n",
       "      <td>5 Year(s) 9 Month(s)</td>\n",
       "      <td>Hyderabad/ Secunderabad</td>\n",
       "      <td>MBA/ PGDM</td>\n",
       "      <td>B.Pharm. (Pharmacy)</td>\n",
       "      <td>Rs. 5.0 lacs</td>\n",
       "      <td>9701900131</td>\n",
       "      <td>HYDERABAD-SALARIED</td>\n",
       "      <td>5.00</td>\n",
       "      <td>5.0</td>\n",
       "      <td>9.0</td>\n",
       "    </tr>\n",
       "    <tr>\n",
       "      <th>2</th>\n",
       "      <td>C J GEETHA PRIYA</td>\n",
       "      <td>propertyoneshop.com</td>\n",
       "      <td>System Administrator</td>\n",
       "      <td>geethapriya89@gmail.com</td>\n",
       "      <td>4 Year(s) 4 Month(s)</td>\n",
       "      <td>Hyderabad/ Secunderabad</td>\n",
       "      <td>B.Com. (Commerce)</td>\n",
       "      <td>NaN</td>\n",
       "      <td>Rs. 84.0 lacs</td>\n",
       "      <td>9705407817</td>\n",
       "      <td>HYDERABAD-SALARIED</td>\n",
       "      <td>84.00</td>\n",
       "      <td>4.0</td>\n",
       "      <td>4.0</td>\n",
       "    </tr>\n",
       "    <tr>\n",
       "      <th>3</th>\n",
       "      <td>SRIKANTH</td>\n",
       "      <td>Axis Bank Ltd</td>\n",
       "      <td>NaN</td>\n",
       "      <td>sburisetty@gmail.com</td>\n",
       "      <td>7 Year(s) 11 Month(s)</td>\n",
       "      <td>Hyderabad/ Secunderabad</td>\n",
       "      <td>NaN</td>\n",
       "      <td>MBA/ PGDM</td>\n",
       "      <td>Rs. 7.0 lacs</td>\n",
       "      <td>8142444544</td>\n",
       "      <td>HYDERABAD-SALARIED</td>\n",
       "      <td>7.00</td>\n",
       "      <td>7.0</td>\n",
       "      <td>11.0</td>\n",
       "    </tr>\n",
       "    <tr>\n",
       "      <th>4</th>\n",
       "      <td>Madduri Srinivas</td>\n",
       "      <td>CTS</td>\n",
       "      <td>Associate Projects</td>\n",
       "      <td>madduri12@gmail.com</td>\n",
       "      <td>6 Year(s) 8 Month(s)</td>\n",
       "      <td>Hyderabad/ Secunderabad</td>\n",
       "      <td>B.Com. (Commerce)</td>\n",
       "      <td>MCA/ PGDCA</td>\n",
       "      <td>Rs. 8.05 lacs</td>\n",
       "      <td>9581812128</td>\n",
       "      <td>HYDERABAD-SALARIED</td>\n",
       "      <td>8.05</td>\n",
       "      <td>6.0</td>\n",
       "      <td>8.0</td>\n",
       "    </tr>\n",
       "  </tbody>\n",
       "</table>\n",
       "</div>"
      ],
      "text/plain": [
       "      candidateName                            companyName  \\\n",
       "0   Ruchismita Dash                                Amdocs    \n",
       "1       MANISHA DAS  APOLLO HOSPITALS ENTERPRISES LIMITED    \n",
       "2  C J GEETHA PRIYA                   propertyoneshop.com    \n",
       "3          SRIKANTH                         Axis Bank Ltd    \n",
       "4  Madduri Srinivas                                   CTS    \n",
       "\n",
       "                   designation             emailAddress  \\\n",
       "0           Software Developer    ruchidash89@gmail.com   \n",
       "1  SENIOR EXECUTIVE-OPERATIONS  manisha.das82@gmail.com   \n",
       "2         System Administrator  geethapriya89@gmail.com   \n",
       "3                          NaN     sburisetty@gmail.com   \n",
       "4           Associate Projects      madduri12@gmail.com   \n",
       "\n",
       "           experienceMas       locationCurrentMas          qualificationMas  \\\n",
       "0   2 Year(s) 1 Month(s)  Hyderabad/ Secunderabad  BE/ B.Tech (Engineering)   \n",
       "1   5 Year(s) 9 Month(s)  Hyderabad/ Secunderabad                 MBA/ PGDM   \n",
       "2   4 Year(s) 4 Month(s)  Hyderabad/ Secunderabad         B.Com. (Commerce)   \n",
       "3  7 Year(s) 11 Month(s)  Hyderabad/ Secunderabad                       NaN   \n",
       "4   6 Year(s) 8 Month(s)  Hyderabad/ Secunderabad         B.Com. (Commerce)   \n",
       "\n",
       "     qualificationMas2         salary   tel_Other            Category  \\\n",
       "0                  NaN  Rs. 6.71 lacs  8390909230  HYDERABAD-SALARIED   \n",
       "1  B.Pharm. (Pharmacy)   Rs. 5.0 lacs  9701900131  HYDERABAD-SALARIED   \n",
       "2                  NaN  Rs. 84.0 lacs  9705407817  HYDERABAD-SALARIED   \n",
       "3            MBA/ PGDM   Rs. 7.0 lacs  8142444544  HYDERABAD-SALARIED   \n",
       "4           MCA/ PGDCA  Rs. 8.05 lacs  9581812128  HYDERABAD-SALARIED   \n",
       "\n",
       "   SalaryInLacs  ExpYear  ExpMonth  \n",
       "0          6.71      2.0       1.0  \n",
       "1          5.00      5.0       9.0  \n",
       "2         84.00      4.0       4.0  \n",
       "3          7.00      7.0      11.0  \n",
       "4          8.05      6.0       8.0  "
      ]
     },
     "execution_count": 18,
     "metadata": {},
     "output_type": "execute_result"
    }
   ],
   "source": [
    "data[\"ExpYear\"] = data[\"ExpYear\"].astype(float)\n",
    "data[\"ExpMonth\"] = data[\"ExpMonth\"].astype(float)\n",
    "data['SalaryInLacs'] = data['SalaryInLacs'].astype(float)\n",
    "data.head()"
   ]
  },
  {
   "cell_type": "code",
   "execution_count": 19,
   "id": "bbe47e9d",
   "metadata": {},
   "outputs": [],
   "source": [
    "data[\"TotalExpInMonths\"] = data[\"ExpYear\"]*12 + data[\"ExpMonth\"]     #converting the candiadate experiences' in months\n",
    "data = data.drop([\"ExpYear\",\"ExpMonth\"], axis=1)             #Dropping them as they will not be used anymore"
   ]
  },
  {
   "cell_type": "code",
   "execution_count": 20,
   "id": "a4ea9d78",
   "metadata": {},
   "outputs": [
    {
     "data": {
      "text/html": [
       "<div>\n",
       "<style scoped>\n",
       "    .dataframe tbody tr th:only-of-type {\n",
       "        vertical-align: middle;\n",
       "    }\n",
       "\n",
       "    .dataframe tbody tr th {\n",
       "        vertical-align: top;\n",
       "    }\n",
       "\n",
       "    .dataframe thead th {\n",
       "        text-align: right;\n",
       "    }\n",
       "</style>\n",
       "<table border=\"1\" class=\"dataframe\">\n",
       "  <thead>\n",
       "    <tr style=\"text-align: right;\">\n",
       "      <th></th>\n",
       "      <th>candidateName</th>\n",
       "      <th>companyName</th>\n",
       "      <th>designation</th>\n",
       "      <th>emailAddress</th>\n",
       "      <th>experienceMas</th>\n",
       "      <th>locationCurrentMas</th>\n",
       "      <th>qualificationMas</th>\n",
       "      <th>qualificationMas2</th>\n",
       "      <th>salary</th>\n",
       "      <th>tel_Other</th>\n",
       "      <th>Category</th>\n",
       "      <th>SalaryInLacs</th>\n",
       "      <th>TotalExpInMonths</th>\n",
       "    </tr>\n",
       "  </thead>\n",
       "  <tbody>\n",
       "    <tr>\n",
       "      <th>0</th>\n",
       "      <td>Ruchismita Dash</td>\n",
       "      <td>Amdocs</td>\n",
       "      <td>Software Developer</td>\n",
       "      <td>ruchidash89@gmail.com</td>\n",
       "      <td>2 Year(s) 1 Month(s)</td>\n",
       "      <td>Hyderabad/ Secunderabad</td>\n",
       "      <td>BE/ B.Tech (Engineering)</td>\n",
       "      <td>NaN</td>\n",
       "      <td>Rs. 6.71 lacs</td>\n",
       "      <td>8390909230</td>\n",
       "      <td>HYDERABAD-SALARIED</td>\n",
       "      <td>6.71</td>\n",
       "      <td>25.0</td>\n",
       "    </tr>\n",
       "    <tr>\n",
       "      <th>1</th>\n",
       "      <td>MANISHA DAS</td>\n",
       "      <td>APOLLO HOSPITALS ENTERPRISES LIMITED</td>\n",
       "      <td>SENIOR EXECUTIVE-OPERATIONS</td>\n",
       "      <td>manisha.das82@gmail.com</td>\n",
       "      <td>5 Year(s) 9 Month(s)</td>\n",
       "      <td>Hyderabad/ Secunderabad</td>\n",
       "      <td>MBA/ PGDM</td>\n",
       "      <td>B.Pharm. (Pharmacy)</td>\n",
       "      <td>Rs. 5.0 lacs</td>\n",
       "      <td>9701900131</td>\n",
       "      <td>HYDERABAD-SALARIED</td>\n",
       "      <td>5.00</td>\n",
       "      <td>69.0</td>\n",
       "    </tr>\n",
       "    <tr>\n",
       "      <th>2</th>\n",
       "      <td>C J GEETHA PRIYA</td>\n",
       "      <td>propertyoneshop.com</td>\n",
       "      <td>System Administrator</td>\n",
       "      <td>geethapriya89@gmail.com</td>\n",
       "      <td>4 Year(s) 4 Month(s)</td>\n",
       "      <td>Hyderabad/ Secunderabad</td>\n",
       "      <td>B.Com. (Commerce)</td>\n",
       "      <td>NaN</td>\n",
       "      <td>Rs. 84.0 lacs</td>\n",
       "      <td>9705407817</td>\n",
       "      <td>HYDERABAD-SALARIED</td>\n",
       "      <td>84.00</td>\n",
       "      <td>52.0</td>\n",
       "    </tr>\n",
       "    <tr>\n",
       "      <th>3</th>\n",
       "      <td>SRIKANTH</td>\n",
       "      <td>Axis Bank Ltd</td>\n",
       "      <td>NaN</td>\n",
       "      <td>sburisetty@gmail.com</td>\n",
       "      <td>7 Year(s) 11 Month(s)</td>\n",
       "      <td>Hyderabad/ Secunderabad</td>\n",
       "      <td>NaN</td>\n",
       "      <td>MBA/ PGDM</td>\n",
       "      <td>Rs. 7.0 lacs</td>\n",
       "      <td>8142444544</td>\n",
       "      <td>HYDERABAD-SALARIED</td>\n",
       "      <td>7.00</td>\n",
       "      <td>95.0</td>\n",
       "    </tr>\n",
       "    <tr>\n",
       "      <th>4</th>\n",
       "      <td>Madduri Srinivas</td>\n",
       "      <td>CTS</td>\n",
       "      <td>Associate Projects</td>\n",
       "      <td>madduri12@gmail.com</td>\n",
       "      <td>6 Year(s) 8 Month(s)</td>\n",
       "      <td>Hyderabad/ Secunderabad</td>\n",
       "      <td>B.Com. (Commerce)</td>\n",
       "      <td>MCA/ PGDCA</td>\n",
       "      <td>Rs. 8.05 lacs</td>\n",
       "      <td>9581812128</td>\n",
       "      <td>HYDERABAD-SALARIED</td>\n",
       "      <td>8.05</td>\n",
       "      <td>80.0</td>\n",
       "    </tr>\n",
       "  </tbody>\n",
       "</table>\n",
       "</div>"
      ],
      "text/plain": [
       "      candidateName                            companyName  \\\n",
       "0   Ruchismita Dash                                Amdocs    \n",
       "1       MANISHA DAS  APOLLO HOSPITALS ENTERPRISES LIMITED    \n",
       "2  C J GEETHA PRIYA                   propertyoneshop.com    \n",
       "3          SRIKANTH                         Axis Bank Ltd    \n",
       "4  Madduri Srinivas                                   CTS    \n",
       "\n",
       "                   designation             emailAddress  \\\n",
       "0           Software Developer    ruchidash89@gmail.com   \n",
       "1  SENIOR EXECUTIVE-OPERATIONS  manisha.das82@gmail.com   \n",
       "2         System Administrator  geethapriya89@gmail.com   \n",
       "3                          NaN     sburisetty@gmail.com   \n",
       "4           Associate Projects      madduri12@gmail.com   \n",
       "\n",
       "           experienceMas       locationCurrentMas          qualificationMas  \\\n",
       "0   2 Year(s) 1 Month(s)  Hyderabad/ Secunderabad  BE/ B.Tech (Engineering)   \n",
       "1   5 Year(s) 9 Month(s)  Hyderabad/ Secunderabad                 MBA/ PGDM   \n",
       "2   4 Year(s) 4 Month(s)  Hyderabad/ Secunderabad         B.Com. (Commerce)   \n",
       "3  7 Year(s) 11 Month(s)  Hyderabad/ Secunderabad                       NaN   \n",
       "4   6 Year(s) 8 Month(s)  Hyderabad/ Secunderabad         B.Com. (Commerce)   \n",
       "\n",
       "     qualificationMas2         salary   tel_Other            Category  \\\n",
       "0                  NaN  Rs. 6.71 lacs  8390909230  HYDERABAD-SALARIED   \n",
       "1  B.Pharm. (Pharmacy)   Rs. 5.0 lacs  9701900131  HYDERABAD-SALARIED   \n",
       "2                  NaN  Rs. 84.0 lacs  9705407817  HYDERABAD-SALARIED   \n",
       "3            MBA/ PGDM   Rs. 7.0 lacs  8142444544  HYDERABAD-SALARIED   \n",
       "4           MCA/ PGDCA  Rs. 8.05 lacs  9581812128  HYDERABAD-SALARIED   \n",
       "\n",
       "   SalaryInLacs  TotalExpInMonths  \n",
       "0          6.71              25.0  \n",
       "1          5.00              69.0  \n",
       "2         84.00              52.0  \n",
       "3          7.00              95.0  \n",
       "4          8.05              80.0  "
      ]
     },
     "execution_count": 20,
     "metadata": {},
     "output_type": "execute_result"
    }
   ],
   "source": [
    "data.head()"
   ]
  },
  {
   "cell_type": "code",
   "execution_count": 21,
   "id": "245669cb",
   "metadata": {},
   "outputs": [
    {
     "data": {
      "text/html": [
       "<div>\n",
       "<style scoped>\n",
       "    .dataframe tbody tr th:only-of-type {\n",
       "        vertical-align: middle;\n",
       "    }\n",
       "\n",
       "    .dataframe tbody tr th {\n",
       "        vertical-align: top;\n",
       "    }\n",
       "\n",
       "    .dataframe thead th {\n",
       "        text-align: right;\n",
       "    }\n",
       "</style>\n",
       "<table border=\"1\" class=\"dataframe\">\n",
       "  <thead>\n",
       "    <tr style=\"text-align: right;\">\n",
       "      <th></th>\n",
       "      <th>candidateName</th>\n",
       "      <th>companyName</th>\n",
       "      <th>designation</th>\n",
       "      <th>emailAddress</th>\n",
       "      <th>experienceMas</th>\n",
       "      <th>locationCurrentMas</th>\n",
       "      <th>qualificationMas</th>\n",
       "      <th>qualificationMas2</th>\n",
       "      <th>salary</th>\n",
       "      <th>tel_Other</th>\n",
       "      <th>Category</th>\n",
       "      <th>SalaryInLacs</th>\n",
       "      <th>TotalExpInMonths</th>\n",
       "    </tr>\n",
       "  </thead>\n",
       "  <tbody>\n",
       "    <tr>\n",
       "      <th>18656</th>\n",
       "      <td>khaja moinuddin</td>\n",
       "      <td>NaN</td>\n",
       "      <td>NaN</td>\n",
       "      <td>khajamoinuddin1120@gmail.com</td>\n",
       "      <td>1 Year(s) 5 Month(s)</td>\n",
       "      <td>Hyderabad/ Secunderabad</td>\n",
       "      <td>NaN</td>\n",
       "      <td>NaN</td>\n",
       "      <td>Rs. 14210.65 lacs</td>\n",
       "      <td>9885950891</td>\n",
       "      <td>HYDERABAD-SALARIED</td>\n",
       "      <td>14210.65</td>\n",
       "      <td>17.0</td>\n",
       "    </tr>\n",
       "    <tr>\n",
       "      <th>28276</th>\n",
       "      <td>kolaria mukesh</td>\n",
       "      <td>Luminova infotech LLC</td>\n",
       "      <td>IT Recruiter</td>\n",
       "      <td>kolariamukesh@gmail.com</td>\n",
       "      <td>5 Month(s)</td>\n",
       "      <td>Hyderabad/ Secunderabad</td>\n",
       "      <td>B.Com. (Commerce)</td>\n",
       "      <td>NaN</td>\n",
       "      <td>Rs. 960.0 lacs</td>\n",
       "      <td>9963283198</td>\n",
       "      <td>HYDERABAD-SALARIED</td>\n",
       "      <td>960.00</td>\n",
       "      <td>60.0</td>\n",
       "    </tr>\n",
       "    <tr>\n",
       "      <th>18909</th>\n",
       "      <td>Anil</td>\n",
       "      <td>formally known as Intelligroup Asia Pvt. Ltd</td>\n",
       "      <td>Hyderabad as oracle apps technical consultant</td>\n",
       "      <td>vaniloaf@gmail.com</td>\n",
       "      <td>7 Year(s)</td>\n",
       "      <td>Hyderabad/ Secunderabad</td>\n",
       "      <td>MCA/ PGDCA</td>\n",
       "      <td>NaN</td>\n",
       "      <td>Rs. 950.0 lacs</td>\n",
       "      <td>8142423232</td>\n",
       "      <td>HYDERABAD-SALARIED</td>\n",
       "      <td>950.00</td>\n",
       "      <td>84.0</td>\n",
       "    </tr>\n",
       "    <tr>\n",
       "      <th>26272</th>\n",
       "      <td>Suman Kamarthapu</td>\n",
       "      <td>Munna united hospitality services</td>\n",
       "      <td>Restaurant manager</td>\n",
       "      <td>sumanworld007@gmail.com</td>\n",
       "      <td>5 Year(s) 5 Month(s)</td>\n",
       "      <td>Hyderabad/ Secunderabad</td>\n",
       "      <td>B.Com. (Commerce)</td>\n",
       "      <td>MCA/ PGDCA</td>\n",
       "      <td>Rs. 903.0 lacs</td>\n",
       "      <td>9700551514</td>\n",
       "      <td>HYDERABAD-SALARIED</td>\n",
       "      <td>903.00</td>\n",
       "      <td>65.0</td>\n",
       "    </tr>\n",
       "    <tr>\n",
       "      <th>25921</th>\n",
       "      <td>MD RASHEED</td>\n",
       "      <td>Veljan Hydrair Ltd</td>\n",
       "      <td>vehicle mechanic</td>\n",
       "      <td>exarmymdrasheed@yahoo.in</td>\n",
       "      <td>19 Year(s) 3 Month(s)</td>\n",
       "      <td>Hyderabad/ Secunderabad</td>\n",
       "      <td>Diploma-Other Diploma</td>\n",
       "      <td>NaN</td>\n",
       "      <td>Rs. 900.03 lacs</td>\n",
       "      <td>9618131433</td>\n",
       "      <td>HYDERABAD-SALARIED</td>\n",
       "      <td>900.03</td>\n",
       "      <td>231.0</td>\n",
       "    </tr>\n",
       "  </tbody>\n",
       "</table>\n",
       "</div>"
      ],
      "text/plain": [
       "          candidateName                                    companyName  \\\n",
       "18656   khaja moinuddin                                            NaN   \n",
       "28276    kolaria mukesh                         Luminova infotech LLC    \n",
       "18909              Anil  formally known as Intelligroup Asia Pvt. Ltd    \n",
       "26272  Suman Kamarthapu             Munna united hospitality services    \n",
       "25921        MD RASHEED                            Veljan Hydrair Ltd    \n",
       "\n",
       "                                         designation  \\\n",
       "18656                                            NaN   \n",
       "28276                                  IT Recruiter    \n",
       "18909  Hyderabad as oracle apps technical consultant   \n",
       "26272                             Restaurant manager   \n",
       "25921                               vehicle mechanic   \n",
       "\n",
       "                       emailAddress          experienceMas  \\\n",
       "18656  khajamoinuddin1120@gmail.com   1 Year(s) 5 Month(s)   \n",
       "28276       kolariamukesh@gmail.com             5 Month(s)   \n",
       "18909            vaniloaf@gmail.com             7 Year(s)    \n",
       "26272       sumanworld007@gmail.com   5 Year(s) 5 Month(s)   \n",
       "25921      exarmymdrasheed@yahoo.in  19 Year(s) 3 Month(s)   \n",
       "\n",
       "            locationCurrentMas       qualificationMas qualificationMas2  \\\n",
       "18656  Hyderabad/ Secunderabad                    NaN               NaN   \n",
       "28276  Hyderabad/ Secunderabad      B.Com. (Commerce)               NaN   \n",
       "18909  Hyderabad/ Secunderabad             MCA/ PGDCA               NaN   \n",
       "26272  Hyderabad/ Secunderabad      B.Com. (Commerce)        MCA/ PGDCA   \n",
       "25921  Hyderabad/ Secunderabad  Diploma-Other Diploma               NaN   \n",
       "\n",
       "                  salary   tel_Other            Category  SalaryInLacs  \\\n",
       "18656  Rs. 14210.65 lacs  9885950891  HYDERABAD-SALARIED      14210.65   \n",
       "28276     Rs. 960.0 lacs  9963283198  HYDERABAD-SALARIED        960.00   \n",
       "18909     Rs. 950.0 lacs  8142423232  HYDERABAD-SALARIED        950.00   \n",
       "26272     Rs. 903.0 lacs  9700551514  HYDERABAD-SALARIED        903.00   \n",
       "25921    Rs. 900.03 lacs  9618131433  HYDERABAD-SALARIED        900.03   \n",
       "\n",
       "       TotalExpInMonths  \n",
       "18656              17.0  \n",
       "28276              60.0  \n",
       "18909              84.0  \n",
       "26272              65.0  \n",
       "25921             231.0  "
      ]
     },
     "execution_count": 21,
     "metadata": {},
     "output_type": "execute_result"
    }
   ],
   "source": [
    "data_sorted = data.sort_values(by=\"SalaryInLacs\",ascending = False)  #Descending the salaries\n",
    "data_sorted.head()"
   ]
  },
  {
   "cell_type": "code",
   "execution_count": 22,
   "id": "ee6a511b",
   "metadata": {},
   "outputs": [],
   "source": [
    "#So we see the highest salary has a big difference with others and it has very less experience without mentioning any designation. \n",
    "#This data will not correlate with others and can mislead the results. So I will eliminate it."
   ]
  },
  {
   "cell_type": "code",
   "execution_count": 23,
   "id": "81a48206",
   "metadata": {},
   "outputs": [
    {
     "data": {
      "text/html": [
       "<div>\n",
       "<style scoped>\n",
       "    .dataframe tbody tr th:only-of-type {\n",
       "        vertical-align: middle;\n",
       "    }\n",
       "\n",
       "    .dataframe tbody tr th {\n",
       "        vertical-align: top;\n",
       "    }\n",
       "\n",
       "    .dataframe thead th {\n",
       "        text-align: right;\n",
       "    }\n",
       "</style>\n",
       "<table border=\"1\" class=\"dataframe\">\n",
       "  <thead>\n",
       "    <tr style=\"text-align: right;\">\n",
       "      <th></th>\n",
       "      <th>candidateName</th>\n",
       "      <th>companyName</th>\n",
       "      <th>designation</th>\n",
       "      <th>emailAddress</th>\n",
       "      <th>experienceMas</th>\n",
       "      <th>locationCurrentMas</th>\n",
       "      <th>qualificationMas</th>\n",
       "      <th>qualificationMas2</th>\n",
       "      <th>salary</th>\n",
       "      <th>tel_Other</th>\n",
       "      <th>Category</th>\n",
       "      <th>SalaryInLacs</th>\n",
       "      <th>TotalExpInMonths</th>\n",
       "    </tr>\n",
       "  </thead>\n",
       "  <tbody>\n",
       "    <tr>\n",
       "      <th>0</th>\n",
       "      <td>Ruchismita Dash</td>\n",
       "      <td>Amdocs</td>\n",
       "      <td>Software Developer</td>\n",
       "      <td>ruchidash89@gmail.com</td>\n",
       "      <td>2 Year(s) 1 Month(s)</td>\n",
       "      <td>Hyderabad/ Secunderabad</td>\n",
       "      <td>BE/ B.Tech (Engineering)</td>\n",
       "      <td>NaN</td>\n",
       "      <td>Rs. 6.71 lacs</td>\n",
       "      <td>8390909230</td>\n",
       "      <td>HYDERABAD-SALARIED</td>\n",
       "      <td>6.71</td>\n",
       "      <td>25.0</td>\n",
       "    </tr>\n",
       "    <tr>\n",
       "      <th>1</th>\n",
       "      <td>MANISHA DAS</td>\n",
       "      <td>APOLLO HOSPITALS ENTERPRISES LIMITED</td>\n",
       "      <td>SENIOR EXECUTIVE-OPERATIONS</td>\n",
       "      <td>manisha.das82@gmail.com</td>\n",
       "      <td>5 Year(s) 9 Month(s)</td>\n",
       "      <td>Hyderabad/ Secunderabad</td>\n",
       "      <td>MBA/ PGDM</td>\n",
       "      <td>B.Pharm. (Pharmacy)</td>\n",
       "      <td>Rs. 5.0 lacs</td>\n",
       "      <td>9701900131</td>\n",
       "      <td>HYDERABAD-SALARIED</td>\n",
       "      <td>5.00</td>\n",
       "      <td>69.0</td>\n",
       "    </tr>\n",
       "    <tr>\n",
       "      <th>2</th>\n",
       "      <td>C J GEETHA PRIYA</td>\n",
       "      <td>propertyoneshop.com</td>\n",
       "      <td>System Administrator</td>\n",
       "      <td>geethapriya89@gmail.com</td>\n",
       "      <td>4 Year(s) 4 Month(s)</td>\n",
       "      <td>Hyderabad/ Secunderabad</td>\n",
       "      <td>B.Com. (Commerce)</td>\n",
       "      <td>NaN</td>\n",
       "      <td>Rs. 84.0 lacs</td>\n",
       "      <td>9705407817</td>\n",
       "      <td>HYDERABAD-SALARIED</td>\n",
       "      <td>84.00</td>\n",
       "      <td>52.0</td>\n",
       "    </tr>\n",
       "    <tr>\n",
       "      <th>3</th>\n",
       "      <td>SRIKANTH</td>\n",
       "      <td>Axis Bank Ltd</td>\n",
       "      <td>NaN</td>\n",
       "      <td>sburisetty@gmail.com</td>\n",
       "      <td>7 Year(s) 11 Month(s)</td>\n",
       "      <td>Hyderabad/ Secunderabad</td>\n",
       "      <td>NaN</td>\n",
       "      <td>MBA/ PGDM</td>\n",
       "      <td>Rs. 7.0 lacs</td>\n",
       "      <td>8142444544</td>\n",
       "      <td>HYDERABAD-SALARIED</td>\n",
       "      <td>7.00</td>\n",
       "      <td>95.0</td>\n",
       "    </tr>\n",
       "    <tr>\n",
       "      <th>4</th>\n",
       "      <td>Madduri Srinivas</td>\n",
       "      <td>CTS</td>\n",
       "      <td>Associate Projects</td>\n",
       "      <td>madduri12@gmail.com</td>\n",
       "      <td>6 Year(s) 8 Month(s)</td>\n",
       "      <td>Hyderabad/ Secunderabad</td>\n",
       "      <td>B.Com. (Commerce)</td>\n",
       "      <td>MCA/ PGDCA</td>\n",
       "      <td>Rs. 8.05 lacs</td>\n",
       "      <td>9581812128</td>\n",
       "      <td>HYDERABAD-SALARIED</td>\n",
       "      <td>8.05</td>\n",
       "      <td>80.0</td>\n",
       "    </tr>\n",
       "  </tbody>\n",
       "</table>\n",
       "</div>"
      ],
      "text/plain": [
       "      candidateName                            companyName  \\\n",
       "0   Ruchismita Dash                                Amdocs    \n",
       "1       MANISHA DAS  APOLLO HOSPITALS ENTERPRISES LIMITED    \n",
       "2  C J GEETHA PRIYA                   propertyoneshop.com    \n",
       "3          SRIKANTH                         Axis Bank Ltd    \n",
       "4  Madduri Srinivas                                   CTS    \n",
       "\n",
       "                   designation             emailAddress  \\\n",
       "0           Software Developer    ruchidash89@gmail.com   \n",
       "1  SENIOR EXECUTIVE-OPERATIONS  manisha.das82@gmail.com   \n",
       "2         System Administrator  geethapriya89@gmail.com   \n",
       "3                          NaN     sburisetty@gmail.com   \n",
       "4           Associate Projects      madduri12@gmail.com   \n",
       "\n",
       "           experienceMas       locationCurrentMas          qualificationMas  \\\n",
       "0   2 Year(s) 1 Month(s)  Hyderabad/ Secunderabad  BE/ B.Tech (Engineering)   \n",
       "1   5 Year(s) 9 Month(s)  Hyderabad/ Secunderabad                 MBA/ PGDM   \n",
       "2   4 Year(s) 4 Month(s)  Hyderabad/ Secunderabad         B.Com. (Commerce)   \n",
       "3  7 Year(s) 11 Month(s)  Hyderabad/ Secunderabad                       NaN   \n",
       "4   6 Year(s) 8 Month(s)  Hyderabad/ Secunderabad         B.Com. (Commerce)   \n",
       "\n",
       "     qualificationMas2         salary   tel_Other            Category  \\\n",
       "0                  NaN  Rs. 6.71 lacs  8390909230  HYDERABAD-SALARIED   \n",
       "1  B.Pharm. (Pharmacy)   Rs. 5.0 lacs  9701900131  HYDERABAD-SALARIED   \n",
       "2                  NaN  Rs. 84.0 lacs  9705407817  HYDERABAD-SALARIED   \n",
       "3            MBA/ PGDM   Rs. 7.0 lacs  8142444544  HYDERABAD-SALARIED   \n",
       "4           MCA/ PGDCA  Rs. 8.05 lacs  9581812128  HYDERABAD-SALARIED   \n",
       "\n",
       "   SalaryInLacs  TotalExpInMonths  \n",
       "0          6.71              25.0  \n",
       "1          5.00              69.0  \n",
       "2         84.00              52.0  \n",
       "3          7.00              95.0  \n",
       "4          8.05              80.0  "
      ]
     },
     "execution_count": 23,
     "metadata": {},
     "output_type": "execute_result"
    }
   ],
   "source": [
    "data_new = data.drop(data.index[18656])    #deleting the data from 'data' dataframe\n",
    "data_new.head()"
   ]
  },
  {
   "cell_type": "code",
   "execution_count": 24,
   "id": "528f20ae",
   "metadata": {},
   "outputs": [
    {
     "data": {
      "text/html": [
       "<div>\n",
       "<style scoped>\n",
       "    .dataframe tbody tr th:only-of-type {\n",
       "        vertical-align: middle;\n",
       "    }\n",
       "\n",
       "    .dataframe tbody tr th {\n",
       "        vertical-align: top;\n",
       "    }\n",
       "\n",
       "    .dataframe thead th {\n",
       "        text-align: right;\n",
       "    }\n",
       "</style>\n",
       "<table border=\"1\" class=\"dataframe\">\n",
       "  <thead>\n",
       "    <tr style=\"text-align: right;\">\n",
       "      <th></th>\n",
       "      <th>candidateName</th>\n",
       "      <th>companyName</th>\n",
       "      <th>designation</th>\n",
       "      <th>emailAddress</th>\n",
       "      <th>experienceMas</th>\n",
       "      <th>locationCurrentMas</th>\n",
       "      <th>qualificationMas</th>\n",
       "      <th>qualificationMas2</th>\n",
       "      <th>salary</th>\n",
       "      <th>tel_Other</th>\n",
       "      <th>Category</th>\n",
       "      <th>SalaryInLacs</th>\n",
       "      <th>TotalExpInMonths</th>\n",
       "    </tr>\n",
       "  </thead>\n",
       "  <tbody>\n",
       "    <tr>\n",
       "      <th>28276</th>\n",
       "      <td>kolaria mukesh</td>\n",
       "      <td>Luminova infotech LLC</td>\n",
       "      <td>IT Recruiter</td>\n",
       "      <td>kolariamukesh@gmail.com</td>\n",
       "      <td>5 Month(s)</td>\n",
       "      <td>Hyderabad/ Secunderabad</td>\n",
       "      <td>B.Com. (Commerce)</td>\n",
       "      <td>NaN</td>\n",
       "      <td>Rs. 960.0 lacs</td>\n",
       "      <td>9963283198</td>\n",
       "      <td>HYDERABAD-SALARIED</td>\n",
       "      <td>960.00</td>\n",
       "      <td>60.0</td>\n",
       "    </tr>\n",
       "    <tr>\n",
       "      <th>18909</th>\n",
       "      <td>Anil</td>\n",
       "      <td>formally known as Intelligroup Asia Pvt. Ltd</td>\n",
       "      <td>Hyderabad as oracle apps technical consultant</td>\n",
       "      <td>vaniloaf@gmail.com</td>\n",
       "      <td>7 Year(s)</td>\n",
       "      <td>Hyderabad/ Secunderabad</td>\n",
       "      <td>MCA/ PGDCA</td>\n",
       "      <td>NaN</td>\n",
       "      <td>Rs. 950.0 lacs</td>\n",
       "      <td>8142423232</td>\n",
       "      <td>HYDERABAD-SALARIED</td>\n",
       "      <td>950.00</td>\n",
       "      <td>84.0</td>\n",
       "    </tr>\n",
       "    <tr>\n",
       "      <th>26272</th>\n",
       "      <td>Suman Kamarthapu</td>\n",
       "      <td>Munna united hospitality services</td>\n",
       "      <td>Restaurant manager</td>\n",
       "      <td>sumanworld007@gmail.com</td>\n",
       "      <td>5 Year(s) 5 Month(s)</td>\n",
       "      <td>Hyderabad/ Secunderabad</td>\n",
       "      <td>B.Com. (Commerce)</td>\n",
       "      <td>MCA/ PGDCA</td>\n",
       "      <td>Rs. 903.0 lacs</td>\n",
       "      <td>9700551514</td>\n",
       "      <td>HYDERABAD-SALARIED</td>\n",
       "      <td>903.00</td>\n",
       "      <td>65.0</td>\n",
       "    </tr>\n",
       "    <tr>\n",
       "      <th>25921</th>\n",
       "      <td>MD RASHEED</td>\n",
       "      <td>Veljan Hydrair Ltd</td>\n",
       "      <td>vehicle mechanic</td>\n",
       "      <td>exarmymdrasheed@yahoo.in</td>\n",
       "      <td>19 Year(s) 3 Month(s)</td>\n",
       "      <td>Hyderabad/ Secunderabad</td>\n",
       "      <td>Diploma-Other Diploma</td>\n",
       "      <td>NaN</td>\n",
       "      <td>Rs. 900.03 lacs</td>\n",
       "      <td>9618131433</td>\n",
       "      <td>HYDERABAD-SALARIED</td>\n",
       "      <td>900.03</td>\n",
       "      <td>231.0</td>\n",
       "    </tr>\n",
       "    <tr>\n",
       "      <th>24005</th>\n",
       "      <td>sadanand s</td>\n",
       "      <td>hdb financial services ltd</td>\n",
       "      <td>Telecalling Officer</td>\n",
       "      <td>sadanand.manju@gmail.com</td>\n",
       "      <td>1 Year(s)</td>\n",
       "      <td>Hyderabad/ Secunderabad</td>\n",
       "      <td>BCA (Computer Application)</td>\n",
       "      <td>NaN</td>\n",
       "      <td>Rs. 900.0 lacs</td>\n",
       "      <td>8884321257</td>\n",
       "      <td>HYDERABAD-SALARIED</td>\n",
       "      <td>900.00</td>\n",
       "      <td>12.0</td>\n",
       "    </tr>\n",
       "  </tbody>\n",
       "</table>\n",
       "</div>"
      ],
      "text/plain": [
       "          candidateName                                    companyName  \\\n",
       "28276    kolaria mukesh                         Luminova infotech LLC    \n",
       "18909              Anil  formally known as Intelligroup Asia Pvt. Ltd    \n",
       "26272  Suman Kamarthapu             Munna united hospitality services    \n",
       "25921        MD RASHEED                            Veljan Hydrair Ltd    \n",
       "24005        sadanand s                    hdb financial services ltd    \n",
       "\n",
       "                                         designation  \\\n",
       "28276                                  IT Recruiter    \n",
       "18909  Hyderabad as oracle apps technical consultant   \n",
       "26272                             Restaurant manager   \n",
       "25921                               vehicle mechanic   \n",
       "24005                            Telecalling Officer   \n",
       "\n",
       "                   emailAddress          experienceMas  \\\n",
       "28276   kolariamukesh@gmail.com             5 Month(s)   \n",
       "18909        vaniloaf@gmail.com             7 Year(s)    \n",
       "26272   sumanworld007@gmail.com   5 Year(s) 5 Month(s)   \n",
       "25921  exarmymdrasheed@yahoo.in  19 Year(s) 3 Month(s)   \n",
       "24005  sadanand.manju@gmail.com             1 Year(s)    \n",
       "\n",
       "            locationCurrentMas            qualificationMas qualificationMas2  \\\n",
       "28276  Hyderabad/ Secunderabad           B.Com. (Commerce)               NaN   \n",
       "18909  Hyderabad/ Secunderabad                  MCA/ PGDCA               NaN   \n",
       "26272  Hyderabad/ Secunderabad           B.Com. (Commerce)        MCA/ PGDCA   \n",
       "25921  Hyderabad/ Secunderabad       Diploma-Other Diploma               NaN   \n",
       "24005  Hyderabad/ Secunderabad  BCA (Computer Application)               NaN   \n",
       "\n",
       "                salary   tel_Other            Category  SalaryInLacs  \\\n",
       "28276   Rs. 960.0 lacs  9963283198  HYDERABAD-SALARIED        960.00   \n",
       "18909   Rs. 950.0 lacs  8142423232  HYDERABAD-SALARIED        950.00   \n",
       "26272   Rs. 903.0 lacs  9700551514  HYDERABAD-SALARIED        903.00   \n",
       "25921  Rs. 900.03 lacs  9618131433  HYDERABAD-SALARIED        900.03   \n",
       "24005   Rs. 900.0 lacs  8884321257  HYDERABAD-SALARIED        900.00   \n",
       "\n",
       "       TotalExpInMonths  \n",
       "28276              60.0  \n",
       "18909              84.0  \n",
       "26272              65.0  \n",
       "25921             231.0  \n",
       "24005              12.0  "
      ]
     },
     "execution_count": 24,
     "metadata": {},
     "output_type": "execute_result"
    }
   ],
   "source": [
    "data_sorted_new = data_new.sort_values(by=\"SalaryInLacs\",ascending = False)\n",
    "data_sorted_new.head()          #just to check it is deleted or not. My new dataframe is \"data_new\""
   ]
  },
  {
   "cell_type": "code",
   "execution_count": 25,
   "id": "df175118",
   "metadata": {},
   "outputs": [
    {
     "data": {
      "text/html": [
       "<div>\n",
       "<style scoped>\n",
       "    .dataframe tbody tr th:only-of-type {\n",
       "        vertical-align: middle;\n",
       "    }\n",
       "\n",
       "    .dataframe tbody tr th {\n",
       "        vertical-align: top;\n",
       "    }\n",
       "\n",
       "    .dataframe thead th {\n",
       "        text-align: right;\n",
       "    }\n",
       "</style>\n",
       "<table border=\"1\" class=\"dataframe\">\n",
       "  <thead>\n",
       "    <tr style=\"text-align: right;\">\n",
       "      <th></th>\n",
       "      <th>TotalExpInMonths</th>\n",
       "      <th>SalaryInLacs</th>\n",
       "    </tr>\n",
       "  </thead>\n",
       "  <tbody>\n",
       "    <tr>\n",
       "      <th>0</th>\n",
       "      <td>25.0</td>\n",
       "      <td>6.71</td>\n",
       "    </tr>\n",
       "    <tr>\n",
       "      <th>1</th>\n",
       "      <td>69.0</td>\n",
       "      <td>5.00</td>\n",
       "    </tr>\n",
       "    <tr>\n",
       "      <th>2</th>\n",
       "      <td>52.0</td>\n",
       "      <td>84.00</td>\n",
       "    </tr>\n",
       "    <tr>\n",
       "      <th>3</th>\n",
       "      <td>95.0</td>\n",
       "      <td>7.00</td>\n",
       "    </tr>\n",
       "    <tr>\n",
       "      <th>4</th>\n",
       "      <td>80.0</td>\n",
       "      <td>8.05</td>\n",
       "    </tr>\n",
       "  </tbody>\n",
       "</table>\n",
       "</div>"
      ],
      "text/plain": [
       "   TotalExpInMonths  SalaryInLacs\n",
       "0              25.0          6.71\n",
       "1              69.0          5.00\n",
       "2              52.0         84.00\n",
       "3              95.0          7.00\n",
       "4              80.0          8.05"
      ]
     },
     "execution_count": 25,
     "metadata": {},
     "output_type": "execute_result"
    }
   ],
   "source": [
    "df = data_new[['TotalExpInMonths','SalaryInLacs']]     #Cleaning data with necessary columns\n",
    "df.head()"
   ]
  },
  {
   "cell_type": "code",
   "execution_count": 26,
   "id": "f8c75cdd",
   "metadata": {},
   "outputs": [],
   "source": [
    "#Plotting Graphs"
   ]
  },
  {
   "cell_type": "code",
   "execution_count": 27,
   "id": "36abc8d4",
   "metadata": {},
   "outputs": [],
   "source": [
    "correlation = df.corr()    #correlating columns"
   ]
  },
  {
   "cell_type": "code",
   "execution_count": 28,
   "id": "5a0d0f98",
   "metadata": {},
   "outputs": [
    {
     "data": {
      "text/plain": [
       "<AxesSubplot:>"
      ]
     },
     "execution_count": 28,
     "metadata": {},
     "output_type": "execute_result"
    },
    {
     "data": {
      "image/png": "[encoded data removed]",
      "text/plain": [
       "<Figure size 432x288 with 2 Axes>"
      ]
     },
     "metadata": {
      "needs_background": "light"
     },
     "output_type": "display_data"
    }
   ],
   "source": [
    "sns.heatmap(correlation, xticklabels=correlation.columns, yticklabels=correlation.columns, annot=True)   #producing heatmap"
   ]
  },
  {
   "cell_type": "code",
   "execution_count": 29,
   "id": "4693eba7",
   "metadata": {},
   "outputs": [
    {
     "data": {
      "text/plain": [
       "<seaborn.axisgrid.PairGrid at 0x15eb3c820>"
      ]
     },
     "execution_count": 29,
     "metadata": {},
     "output_type": "execute_result"
    },
    {
     "data": {
      "image/png": "[encoded data removed]",
      "text/plain": [
       "<Figure size 360x360 with 6 Axes>"
      ]
     },
     "metadata": {
      "needs_background": "light"
     },
     "output_type": "display_data"
    }
   ],
   "source": [
    "sns.pairplot(df)     #producing pairplots"
   ]
  },
  {
   "cell_type": "code",
   "execution_count": 30,
   "id": "df2f0293",
   "metadata": {},
   "outputs": [
    {
     "name": "stderr",
     "output_type": "stream",
     "text": [
      "/Users/mainak01/miniforge3/envs/ml/lib/python3.8/site-packages/seaborn/distributions.py:2619: FutureWarning: `distplot` is a deprecated function and will be removed in a future version. Please adapt your code to use either `displot` (a figure-level function with similar flexibility) or `histplot` (an axes-level function for histograms).\n",
      "  warnings.warn(msg, FutureWarning)\n"
     ]
    },
    {
     "data": {
      "text/plain": [
       "<AxesSubplot:xlabel='TotalExpInMonths', ylabel='Density'>"
      ]
     },
     "execution_count": 30,
     "metadata": {},
     "output_type": "execute_result"
    },
    {
     "data": {
      "image/png": "[encoded data removed]",
      "text/plain": [
       "<Figure size 432x288 with 1 Axes>"
      ]
     },
     "metadata": {
      "needs_background": "light"
     },
     "output_type": "display_data"
    }
   ],
   "source": [
    "sns.distplot(df['TotalExpInMonths'], bins = 20)      #Seaborn displot of Experience representing overall distribution of continuous data variables"
   ]
  },
  {
   "cell_type": "code",
   "execution_count": 31,
   "id": "a4b0aa92",
   "metadata": {},
   "outputs": [
    {
     "name": "stderr",
     "output_type": "stream",
     "text": [
      "/Users/mainak01/miniforge3/envs/ml/lib/python3.8/site-packages/seaborn/distributions.py:2619: FutureWarning: `distplot` is a deprecated function and will be removed in a future version. Please adapt your code to use either `displot` (a figure-level function with similar flexibility) or `histplot` (an axes-level function for histograms).\n",
      "  warnings.warn(msg, FutureWarning)\n"
     ]
    },
    {
     "data": {
      "text/plain": [
       "<AxesSubplot:xlabel='SalaryInLacs', ylabel='Density'>"
      ]
     },
     "execution_count": 31,
     "metadata": {},
     "output_type": "execute_result"
    },
    {
     "data": {
      "image/png": "[encoded data removed]",
      "text/plain": [
       "<Figure size 432x288 with 1 Axes>"
      ]
     },
     "metadata": {
      "needs_background": "light"
     },
     "output_type": "display_data"
    }
   ],
   "source": [
    "sns.distplot(df['SalaryInLacs'], bins = 50)      #Seaborn displot of Salary"
   ]
  },
  {
   "cell_type": "code",
   "execution_count": 32,
   "id": "4de55c58",
   "metadata": {},
   "outputs": [
    {
     "data": {
      "text/plain": [
       "<seaborn.axisgrid.FacetGrid at 0x168a80910>"
      ]
     },
     "execution_count": 32,
     "metadata": {},
     "output_type": "execute_result"
    },
    {
     "data": {
      "image/png": "[encoded data removed]",
      "text/plain": [
       "<Figure size 360x360 with 1 Axes>"
      ]
     },
     "metadata": {
      "needs_background": "light"
     },
     "output_type": "display_data"
    }
   ],
   "source": [
    "sns.catplot(x = 'TotalExpInMonths', kind = 'box', data=df)      #Boxplot of Experience"
   ]
  },
  {
   "cell_type": "code",
   "execution_count": 33,
   "id": "d82c52e9",
   "metadata": {},
   "outputs": [
    {
     "data": {
      "text/plain": [
       "<seaborn.axisgrid.FacetGrid at 0x15ea76370>"
      ]
     },
     "execution_count": 33,
     "metadata": {},
     "output_type": "execute_result"
    },
    {
     "data": {
      "image/png": "[encoded data removed]",
      "text/plain": [
       "<Figure size 360x360 with 1 Axes>"
      ]
     },
     "metadata": {
      "needs_background": "light"
     },
     "output_type": "display_data"
    }
   ],
   "source": [
    "sns.catplot(x = 'SalaryInLacs', kind = 'box', data=df)         #Boxplot of Salary"
   ]
  },
  {
   "cell_type": "code",
   "execution_count": 34,
   "id": "ff510bf0",
   "metadata": {},
   "outputs": [
    {
     "data": {
      "text/plain": [
       "array([[<AxesSubplot:title={'center':'TotalExpInMonths'}>]], dtype=object)"
      ]
     },
     "execution_count": 34,
     "metadata": {},
     "output_type": "execute_result"
    },
    {
     "data": {
      "image/png": "[encoded data removed]",
      "text/plain": [
       "<Figure size 432x288 with 1 Axes>"
      ]
     },
     "metadata": {
      "needs_background": "light"
     },
     "output_type": "display_data"
    }
   ],
   "source": [
    "df.hist('TotalExpInMonths')                       #Histogram of Experience"
   ]
  },
  {
   "cell_type": "code",
   "execution_count": 35,
   "id": "6efde806",
   "metadata": {},
   "outputs": [
    {
     "data": {
      "text/plain": [
       "array([[<AxesSubplot:title={'center':'SalaryInLacs'}>]], dtype=object)"
      ]
     },
     "execution_count": 35,
     "metadata": {},
     "output_type": "execute_result"
    },
    {
     "data": {
      "image/png": "[encoded data removed]",
      "text/plain": [
       "<Figure size 432x288 with 1 Axes>"
      ]
     },
     "metadata": {
      "needs_background": "light"
     },
     "output_type": "display_data"
    }
   ],
   "source": [
    "df.hist('SalaryInLacs')                               #Histogram of Salary"
   ]
  },
  {
   "cell_type": "code",
   "execution_count": 36,
   "id": "8db2cfc0",
   "metadata": {},
   "outputs": [
    {
     "data": {
      "image/png": "[encoded data removed]",
      "text/plain": [
       "<Figure size 432x288 with 1 Axes>"
      ]
     },
     "metadata": {
      "needs_background": "light"
     },
     "output_type": "display_data"
    }
   ],
   "source": [
    "plt.scatter( df['TotalExpInMonths'], df['SalaryInLacs'], color = 'blue')     #Scatter Plot\n",
    "plt.show()"
   ]
  },
  {
   "cell_type": "markdown",
   "id": "35be8165",
   "metadata": {},
   "source": [
    "## Machine Learning : K-Means Clustering"
   ]
  },
  {
   "cell_type": "code",
   "execution_count": 37,
   "id": "13c6aebe",
   "metadata": {},
   "outputs": [],
   "source": [
    "from sklearn.cluster import KMeans                    #importing KMeans package"
   ]
  },
  {
   "cell_type": "markdown",
   "id": "fd753731",
   "metadata": {},
   "source": [
    "#### Elbow Technique"
   ]
  },
  {
   "cell_type": "code",
   "execution_count": 38,
   "id": "57e042b5",
   "metadata": {},
   "outputs": [],
   "source": [
    "#Using this technique to determine the number of clusters\n",
    "sse = []           #squared sum of errors\n",
    "\n",
    "k_rng = range(1,10)       #range of number of clusters\n",
    "for k in k_rng:\n",
    "    km = KMeans(n_clusters=k)      # k = number of clusters\n",
    "    km.fit(df[['TotalExpInMonths','SalaryInLacs']])\n",
    "    sse.append(km.inertia_)"
   ]
  },
  {
   "cell_type": "code",
   "execution_count": 39,
   "id": "54aa3c42",
   "metadata": {},
   "outputs": [
    {
     "data": {
      "text/plain": [
       "[184691277.26295266,\n",
       " 80611222.40421881,\n",
       " 52201521.74799589,\n",
       " 37893896.42750044,\n",
       " 28614869.24658031,\n",
       " 21559747.443682477,\n",
       " 16546827.426915655,\n",
       " 13402807.766859235,\n",
       " 11200251.587529074]"
      ]
     },
     "execution_count": 39,
     "metadata": {},
     "output_type": "execute_result"
    }
   ],
   "source": [
    "sse       #Values of squared sum of errors"
   ]
  },
  {
   "cell_type": "code",
   "execution_count": 40,
   "id": "e3da8e7d",
   "metadata": {},
   "outputs": [
    {
     "data": {
      "text/plain": [
       "[<matplotlib.lines.Line2D at 0x16bab7520>]"
      ]
     },
     "execution_count": 40,
     "metadata": {},
     "output_type": "execute_result"
    },
    {
     "data": {
      "image/png": "[encoded data removed]",
      "text/plain": [
       "<Figure size 432x288 with 1 Axes>"
      ]
     },
     "metadata": {
      "needs_background": "light"
     },
     "output_type": "display_data"
    }
   ],
   "source": [
    "plt.xlabel('K')\n",
    "plt.ylabel('Sum of squared error')\n",
    "plt.plot(k_rng,sse)"
   ]
  },
  {
   "cell_type": "code",
   "execution_count": 41,
   "id": "c4d0b4b3",
   "metadata": {},
   "outputs": [],
   "source": [
    "# So we can see from the above plot that the number of suggested K Clusters are 2, according to the Elbow method"
   ]
  },
  {
   "cell_type": "code",
   "execution_count": 42,
   "id": "2d83e9f8",
   "metadata": {},
   "outputs": [
    {
     "data": {
      "text/plain": [
       "KMeans(n_clusters=2)"
      ]
     },
     "execution_count": 42,
     "metadata": {},
     "output_type": "execute_result"
    }
   ],
   "source": [
    "KM = KMeans(n_clusters=2)  #defining two clusters\n",
    "KM"
   ]
  },
  {
   "cell_type": "code",
   "execution_count": 43,
   "id": "cbdf348e",
   "metadata": {},
   "outputs": [
    {
     "data": {
      "text/plain": [
       "array([0, 0, 0, ..., 0, 0, 0], dtype=int32)"
      ]
     },
     "execution_count": 43,
     "metadata": {},
     "output_type": "execute_result"
    }
   ],
   "source": [
    "y_predicted = KM.fit_predict(df[['TotalExpInMonths','SalaryInLacs']])     #fit and predict of KMeans\n",
    "y_predicted                "
   ]
  },
  {
   "cell_type": "code",
   "execution_count": 44,
   "id": "32ddbf83",
   "metadata": {},
   "outputs": [
    {
     "name": "stderr",
     "output_type": "stream",
     "text": [
      "/var/folders/sn/t2zp7pms1pgbzh8ymnmccf100000gn/T/ipykernel_2636/928614140.py:1: SettingWithCopyWarning: \n",
      "A value is trying to be set on a copy of a slice from a DataFrame.\n",
      "Try using .loc[row_indexer,col_indexer] = value instead\n",
      "\n",
      "See the caveats in the documentation: https://pandas.pydata.org/pandas-docs/stable/user_guide/indexing.html#returning-a-view-versus-a-copy\n",
      "  df['Cluster']=y_predicted               #putting in the dataframe of column 'Cluster'\n"
     ]
    },
    {
     "data": {
      "text/html": [
       "<div>\n",
       "<style scoped>\n",
       "    .dataframe tbody tr th:only-of-type {\n",
       "        vertical-align: middle;\n",
       "    }\n",
       "\n",
       "    .dataframe tbody tr th {\n",
       "        vertical-align: top;\n",
       "    }\n",
       "\n",
       "    .dataframe thead th {\n",
       "        text-align: right;\n",
       "    }\n",
       "</style>\n",
       "<table border=\"1\" class=\"dataframe\">\n",
       "  <thead>\n",
       "    <tr style=\"text-align: right;\">\n",
       "      <th></th>\n",
       "      <th>TotalExpInMonths</th>\n",
       "      <th>SalaryInLacs</th>\n",
       "      <th>Cluster</th>\n",
       "    </tr>\n",
       "  </thead>\n",
       "  <tbody>\n",
       "    <tr>\n",
       "      <th>0</th>\n",
       "      <td>25.0</td>\n",
       "      <td>6.71</td>\n",
       "      <td>0</td>\n",
       "    </tr>\n",
       "    <tr>\n",
       "      <th>1</th>\n",
       "      <td>69.0</td>\n",
       "      <td>5.00</td>\n",
       "      <td>0</td>\n",
       "    </tr>\n",
       "    <tr>\n",
       "      <th>2</th>\n",
       "      <td>52.0</td>\n",
       "      <td>84.00</td>\n",
       "      <td>0</td>\n",
       "    </tr>\n",
       "    <tr>\n",
       "      <th>3</th>\n",
       "      <td>95.0</td>\n",
       "      <td>7.00</td>\n",
       "      <td>0</td>\n",
       "    </tr>\n",
       "    <tr>\n",
       "      <th>4</th>\n",
       "      <td>80.0</td>\n",
       "      <td>8.05</td>\n",
       "      <td>0</td>\n",
       "    </tr>\n",
       "    <tr>\n",
       "      <th>...</th>\n",
       "      <td>...</td>\n",
       "      <td>...</td>\n",
       "      <td>...</td>\n",
       "    </tr>\n",
       "    <tr>\n",
       "      <th>28842</th>\n",
       "      <td>156.0</td>\n",
       "      <td>10.09</td>\n",
       "      <td>0</td>\n",
       "    </tr>\n",
       "    <tr>\n",
       "      <th>28843</th>\n",
       "      <td>132.0</td>\n",
       "      <td>7.00</td>\n",
       "      <td>0</td>\n",
       "    </tr>\n",
       "    <tr>\n",
       "      <th>28844</th>\n",
       "      <td>23.0</td>\n",
       "      <td>5.22</td>\n",
       "      <td>0</td>\n",
       "    </tr>\n",
       "    <tr>\n",
       "      <th>28845</th>\n",
       "      <td>68.0</td>\n",
       "      <td>5.05</td>\n",
       "      <td>0</td>\n",
       "    </tr>\n",
       "    <tr>\n",
       "      <th>28846</th>\n",
       "      <td>48.0</td>\n",
       "      <td>7.50</td>\n",
       "      <td>0</td>\n",
       "    </tr>\n",
       "  </tbody>\n",
       "</table>\n",
       "<p>28846 rows × 3 columns</p>\n",
       "</div>"
      ],
      "text/plain": [
       "       TotalExpInMonths  SalaryInLacs  Cluster\n",
       "0                  25.0          6.71        0\n",
       "1                  69.0          5.00        0\n",
       "2                  52.0         84.00        0\n",
       "3                  95.0          7.00        0\n",
       "4                  80.0          8.05        0\n",
       "...                 ...           ...      ...\n",
       "28842             156.0         10.09        0\n",
       "28843             132.0          7.00        0\n",
       "28844              23.0          5.22        0\n",
       "28845              68.0          5.05        0\n",
       "28846              48.0          7.50        0\n",
       "\n",
       "[28846 rows x 3 columns]"
      ]
     },
     "execution_count": 44,
     "metadata": {},
     "output_type": "execute_result"
    }
   ],
   "source": [
    "df['Cluster']=y_predicted               #putting in the dataframe of column 'Cluster'\n",
    "df"
   ]
  },
  {
   "cell_type": "code",
   "execution_count": 45,
   "id": "00bea2d3",
   "metadata": {},
   "outputs": [
    {
     "data": {
      "text/plain": [
       "array([[ 90.81958648,  10.1825307 ],\n",
       "       [234.81837905,  16.5986084 ]])"
      ]
     },
     "execution_count": 45,
     "metadata": {},
     "output_type": "execute_result"
    }
   ],
   "source": [
    "KM.cluster_centers_                #centroid points of two clusters"
   ]
  },
  {
   "cell_type": "code",
   "execution_count": 46,
   "id": "b18f674b",
   "metadata": {},
   "outputs": [
    {
     "data": {
      "text/plain": [
       "<matplotlib.legend.Legend at 0x16bb3daf0>"
      ]
     },
     "execution_count": 46,
     "metadata": {},
     "output_type": "execute_result"
    },
    {
     "data": {
      "image/png": "[encoded data removed]",
      "text/plain": [
       "<Figure size 432x288 with 1 Axes>"
      ]
     },
     "metadata": {
      "needs_background": "light"
     },
     "output_type": "display_data"
    }
   ],
   "source": [
    "df0 = df[df.Cluster==0]           #creating dataframe of cluster=0\n",
    "df1 = df[df.Cluster==1]           #creating dataframe of cluster=1\n",
    "plt.scatter(df0.TotalExpInMonths, df0['SalaryInLacs'], color='green', label='cluster=0' )\n",
    "plt.scatter(df1.TotalExpInMonths, df1['SalaryInLacs'], color='red', label='cluster=1' )\n",
    "plt.scatter(KM.cluster_centers_[:,0], KM.cluster_centers_[:,1], color='purple',marker='*',label='centroid')\n",
    "plt.xlabel('Experience')\n",
    "plt.ylabel('Salary')\n",
    "plt.legend()"
   ]
  },
  {
   "cell_type": "code",
   "execution_count": 47,
   "id": "560ef066",
   "metadata": {},
   "outputs": [
    {
     "data": {
      "text/html": [
       "<div>\n",
       "<style scoped>\n",
       "    .dataframe tbody tr th:only-of-type {\n",
       "        vertical-align: middle;\n",
       "    }\n",
       "\n",
       "    .dataframe tbody tr th {\n",
       "        vertical-align: top;\n",
       "    }\n",
       "\n",
       "    .dataframe thead th {\n",
       "        text-align: right;\n",
       "    }\n",
       "</style>\n",
       "<table border=\"1\" class=\"dataframe\">\n",
       "  <thead>\n",
       "    <tr style=\"text-align: right;\">\n",
       "      <th></th>\n",
       "      <th>TotalExpInMonths</th>\n",
       "      <th>SalaryInLacs</th>\n",
       "      <th>Cluster</th>\n",
       "    </tr>\n",
       "  </thead>\n",
       "  <tbody>\n",
       "    <tr>\n",
       "      <th>0</th>\n",
       "      <td>25.0</td>\n",
       "      <td>6.71</td>\n",
       "      <td>0</td>\n",
       "    </tr>\n",
       "    <tr>\n",
       "      <th>1</th>\n",
       "      <td>69.0</td>\n",
       "      <td>5.00</td>\n",
       "      <td>0</td>\n",
       "    </tr>\n",
       "    <tr>\n",
       "      <th>2</th>\n",
       "      <td>52.0</td>\n",
       "      <td>84.00</td>\n",
       "      <td>0</td>\n",
       "    </tr>\n",
       "    <tr>\n",
       "      <th>3</th>\n",
       "      <td>95.0</td>\n",
       "      <td>7.00</td>\n",
       "      <td>0</td>\n",
       "    </tr>\n",
       "    <tr>\n",
       "      <th>4</th>\n",
       "      <td>80.0</td>\n",
       "      <td>8.05</td>\n",
       "      <td>0</td>\n",
       "    </tr>\n",
       "    <tr>\n",
       "      <th>...</th>\n",
       "      <td>...</td>\n",
       "      <td>...</td>\n",
       "      <td>...</td>\n",
       "    </tr>\n",
       "    <tr>\n",
       "      <th>28842</th>\n",
       "      <td>156.0</td>\n",
       "      <td>10.09</td>\n",
       "      <td>0</td>\n",
       "    </tr>\n",
       "    <tr>\n",
       "      <th>28843</th>\n",
       "      <td>132.0</td>\n",
       "      <td>7.00</td>\n",
       "      <td>0</td>\n",
       "    </tr>\n",
       "    <tr>\n",
       "      <th>28844</th>\n",
       "      <td>23.0</td>\n",
       "      <td>5.22</td>\n",
       "      <td>0</td>\n",
       "    </tr>\n",
       "    <tr>\n",
       "      <th>28845</th>\n",
       "      <td>68.0</td>\n",
       "      <td>5.05</td>\n",
       "      <td>0</td>\n",
       "    </tr>\n",
       "    <tr>\n",
       "      <th>28846</th>\n",
       "      <td>48.0</td>\n",
       "      <td>7.50</td>\n",
       "      <td>0</td>\n",
       "    </tr>\n",
       "  </tbody>\n",
       "</table>\n",
       "<p>22390 rows × 3 columns</p>\n",
       "</div>"
      ],
      "text/plain": [
       "       TotalExpInMonths  SalaryInLacs  Cluster\n",
       "0                  25.0          6.71        0\n",
       "1                  69.0          5.00        0\n",
       "2                  52.0         84.00        0\n",
       "3                  95.0          7.00        0\n",
       "4                  80.0          8.05        0\n",
       "...                 ...           ...      ...\n",
       "28842             156.0         10.09        0\n",
       "28843             132.0          7.00        0\n",
       "28844              23.0          5.22        0\n",
       "28845              68.0          5.05        0\n",
       "28846              48.0          7.50        0\n",
       "\n",
       "[22390 rows x 3 columns]"
      ]
     },
     "execution_count": 47,
     "metadata": {},
     "output_type": "execute_result"
    }
   ],
   "source": [
    "df0            "
   ]
  },
  {
   "cell_type": "code",
   "execution_count": 48,
   "id": "4b0dd990",
   "metadata": {},
   "outputs": [
    {
     "data": {
      "text/html": [
       "<div>\n",
       "<style scoped>\n",
       "    .dataframe tbody tr th:only-of-type {\n",
       "        vertical-align: middle;\n",
       "    }\n",
       "\n",
       "    .dataframe tbody tr th {\n",
       "        vertical-align: top;\n",
       "    }\n",
       "\n",
       "    .dataframe thead th {\n",
       "        text-align: right;\n",
       "    }\n",
       "</style>\n",
       "<table border=\"1\" class=\"dataframe\">\n",
       "  <thead>\n",
       "    <tr style=\"text-align: right;\">\n",
       "      <th></th>\n",
       "      <th>TotalExpInMonths</th>\n",
       "      <th>SalaryInLacs</th>\n",
       "      <th>Cluster</th>\n",
       "    </tr>\n",
       "  </thead>\n",
       "  <tbody>\n",
       "    <tr>\n",
       "      <th>5</th>\n",
       "      <td>242.0</td>\n",
       "      <td>16.0</td>\n",
       "      <td>1</td>\n",
       "    </tr>\n",
       "    <tr>\n",
       "      <th>10</th>\n",
       "      <td>163.0</td>\n",
       "      <td>10.5</td>\n",
       "      <td>1</td>\n",
       "    </tr>\n",
       "    <tr>\n",
       "      <th>13</th>\n",
       "      <td>189.0</td>\n",
       "      <td>7.5</td>\n",
       "      <td>1</td>\n",
       "    </tr>\n",
       "    <tr>\n",
       "      <th>16</th>\n",
       "      <td>286.0</td>\n",
       "      <td>12.0</td>\n",
       "      <td>1</td>\n",
       "    </tr>\n",
       "    <tr>\n",
       "      <th>26</th>\n",
       "      <td>228.0</td>\n",
       "      <td>6.0</td>\n",
       "      <td>1</td>\n",
       "    </tr>\n",
       "    <tr>\n",
       "      <th>...</th>\n",
       "      <td>...</td>\n",
       "      <td>...</td>\n",
       "      <td>...</td>\n",
       "    </tr>\n",
       "    <tr>\n",
       "      <th>28823</th>\n",
       "      <td>211.0</td>\n",
       "      <td>24.0</td>\n",
       "      <td>1</td>\n",
       "    </tr>\n",
       "    <tr>\n",
       "      <th>28824</th>\n",
       "      <td>360.0</td>\n",
       "      <td>24.0</td>\n",
       "      <td>1</td>\n",
       "    </tr>\n",
       "    <tr>\n",
       "      <th>28825</th>\n",
       "      <td>295.0</td>\n",
       "      <td>8.0</td>\n",
       "      <td>1</td>\n",
       "    </tr>\n",
       "    <tr>\n",
       "      <th>28831</th>\n",
       "      <td>192.0</td>\n",
       "      <td>20.0</td>\n",
       "      <td>1</td>\n",
       "    </tr>\n",
       "    <tr>\n",
       "      <th>28837</th>\n",
       "      <td>180.0</td>\n",
       "      <td>24.0</td>\n",
       "      <td>1</td>\n",
       "    </tr>\n",
       "  </tbody>\n",
       "</table>\n",
       "<p>6456 rows × 3 columns</p>\n",
       "</div>"
      ],
      "text/plain": [
       "       TotalExpInMonths  SalaryInLacs  Cluster\n",
       "5                 242.0          16.0        1\n",
       "10                163.0          10.5        1\n",
       "13                189.0           7.5        1\n",
       "16                286.0          12.0        1\n",
       "26                228.0           6.0        1\n",
       "...                 ...           ...      ...\n",
       "28823             211.0          24.0        1\n",
       "28824             360.0          24.0        1\n",
       "28825             295.0           8.0        1\n",
       "28831             192.0          20.0        1\n",
       "28837             180.0          24.0        1\n",
       "\n",
       "[6456 rows x 3 columns]"
      ]
     },
     "execution_count": 48,
     "metadata": {},
     "output_type": "execute_result"
    }
   ],
   "source": [
    "df1          "
   ]
  },
  {
   "cell_type": "code",
   "execution_count": 49,
   "id": "7b83f551",
   "metadata": {},
   "outputs": [
    {
     "name": "stderr",
     "output_type": "stream",
     "text": [
      "/Users/mainak01/miniforge3/envs/ml/lib/python3.8/site-packages/pandas/core/frame.py:3678: SettingWithCopyWarning: \n",
      "A value is trying to be set on a copy of a slice from a DataFrame.\n",
      "Try using .loc[row_indexer,col_indexer] = value instead\n",
      "\n",
      "See the caveats in the documentation: https://pandas.pydata.org/pandas-docs/stable/user_guide/indexing.html#returning-a-view-versus-a-copy\n",
      "  self[col] = igetitem(value, i)\n",
      "/Users/mainak01/miniforge3/envs/ml/lib/python3.8/site-packages/pandas/core/frame.py:3678: SettingWithCopyWarning: \n",
      "A value is trying to be set on a copy of a slice from a DataFrame.\n",
      "Try using .loc[row_indexer,col_indexer] = value instead\n",
      "\n",
      "See the caveats in the documentation: https://pandas.pydata.org/pandas-docs/stable/user_guide/indexing.html#returning-a-view-versus-a-copy\n",
      "  self[col] = igetitem(value, i)\n"
     ]
    },
    {
     "data": {
      "text/html": [
       "<div>\n",
       "<style scoped>\n",
       "    .dataframe tbody tr th:only-of-type {\n",
       "        vertical-align: middle;\n",
       "    }\n",
       "\n",
       "    .dataframe tbody tr th {\n",
       "        vertical-align: top;\n",
       "    }\n",
       "\n",
       "    .dataframe thead th {\n",
       "        text-align: right;\n",
       "    }\n",
       "</style>\n",
       "<table border=\"1\" class=\"dataframe\">\n",
       "  <thead>\n",
       "    <tr style=\"text-align: right;\">\n",
       "      <th></th>\n",
       "      <th>TotalExpInMonths</th>\n",
       "      <th>SalaryInLacs</th>\n",
       "      <th>Cluster</th>\n",
       "    </tr>\n",
       "  </thead>\n",
       "  <tbody>\n",
       "    <tr>\n",
       "      <th>0</th>\n",
       "      <td>0.022936</td>\n",
       "      <td>0.001791</td>\n",
       "      <td>0</td>\n",
       "    </tr>\n",
       "    <tr>\n",
       "      <th>1</th>\n",
       "      <td>0.063303</td>\n",
       "      <td>0.000000</td>\n",
       "      <td>0</td>\n",
       "    </tr>\n",
       "    <tr>\n",
       "      <th>2</th>\n",
       "      <td>0.047706</td>\n",
       "      <td>0.082723</td>\n",
       "      <td>0</td>\n",
       "    </tr>\n",
       "    <tr>\n",
       "      <th>3</th>\n",
       "      <td>0.087156</td>\n",
       "      <td>0.002094</td>\n",
       "      <td>0</td>\n",
       "    </tr>\n",
       "    <tr>\n",
       "      <th>4</th>\n",
       "      <td>0.073394</td>\n",
       "      <td>0.003194</td>\n",
       "      <td>0</td>\n",
       "    </tr>\n",
       "    <tr>\n",
       "      <th>...</th>\n",
       "      <td>...</td>\n",
       "      <td>...</td>\n",
       "      <td>...</td>\n",
       "    </tr>\n",
       "    <tr>\n",
       "      <th>28842</th>\n",
       "      <td>0.143119</td>\n",
       "      <td>0.005330</td>\n",
       "      <td>0</td>\n",
       "    </tr>\n",
       "    <tr>\n",
       "      <th>28843</th>\n",
       "      <td>0.121101</td>\n",
       "      <td>0.002094</td>\n",
       "      <td>0</td>\n",
       "    </tr>\n",
       "    <tr>\n",
       "      <th>28844</th>\n",
       "      <td>0.021101</td>\n",
       "      <td>0.000230</td>\n",
       "      <td>0</td>\n",
       "    </tr>\n",
       "    <tr>\n",
       "      <th>28845</th>\n",
       "      <td>0.062385</td>\n",
       "      <td>0.000052</td>\n",
       "      <td>0</td>\n",
       "    </tr>\n",
       "    <tr>\n",
       "      <th>28846</th>\n",
       "      <td>0.044037</td>\n",
       "      <td>0.002618</td>\n",
       "      <td>0</td>\n",
       "    </tr>\n",
       "  </tbody>\n",
       "</table>\n",
       "<p>28846 rows × 3 columns</p>\n",
       "</div>"
      ],
      "text/plain": [
       "       TotalExpInMonths  SalaryInLacs  Cluster\n",
       "0              0.022936      0.001791        0\n",
       "1              0.063303      0.000000        0\n",
       "2              0.047706      0.082723        0\n",
       "3              0.087156      0.002094        0\n",
       "4              0.073394      0.003194        0\n",
       "...                 ...           ...      ...\n",
       "28842          0.143119      0.005330        0\n",
       "28843          0.121101      0.002094        0\n",
       "28844          0.021101      0.000230        0\n",
       "28845          0.062385      0.000052        0\n",
       "28846          0.044037      0.002618        0\n",
       "\n",
       "[28846 rows x 3 columns]"
      ]
     },
     "execution_count": 49,
     "metadata": {},
     "output_type": "execute_result"
    }
   ],
   "source": [
    "#scaling the data points within clusters\n",
    "scaler = MinMaxScaler()           \n",
    "scaler.fit(df[['SalaryInLacs']])\n",
    "df[['SalaryInLacs']] = scaler.transform(df[['SalaryInLacs']])\n",
    "scaler.fit(df[['TotalExpInMonths']])\n",
    "df[['TotalExpInMonths']] = scaler.transform(df[['TotalExpInMonths']])\n",
    "df"
   ]
  },
  {
   "cell_type": "code",
   "execution_count": 50,
   "id": "373ed60c",
   "metadata": {},
   "outputs": [
    {
     "data": {
      "text/plain": [
       "array([1, 1, 1, ..., 1, 1, 1], dtype=int32)"
      ]
     },
     "execution_count": 50,
     "metadata": {},
     "output_type": "execute_result"
    }
   ],
   "source": [
    "#processing the clustering model again\n",
    "KM = KMeans(n_clusters=2)\n",
    "y_predicted = KM.fit_predict(df[['TotalExpInMonths','SalaryInLacs']])\n",
    "y_predicted"
   ]
  },
  {
   "cell_type": "code",
   "execution_count": 51,
   "id": "92854921",
   "metadata": {},
   "outputs": [
    {
     "name": "stderr",
     "output_type": "stream",
     "text": [
      "/var/folders/sn/t2zp7pms1pgbzh8ymnmccf100000gn/T/ipykernel_2636/3617102637.py:1: SettingWithCopyWarning: \n",
      "A value is trying to be set on a copy of a slice from a DataFrame.\n",
      "Try using .loc[row_indexer,col_indexer] = value instead\n",
      "\n",
      "See the caveats in the documentation: https://pandas.pydata.org/pandas-docs/stable/user_guide/indexing.html#returning-a-view-versus-a-copy\n",
      "  df['Cluster']=y_predicted\n"
     ]
    },
    {
     "data": {
      "text/html": [
       "<div>\n",
       "<style scoped>\n",
       "    .dataframe tbody tr th:only-of-type {\n",
       "        vertical-align: middle;\n",
       "    }\n",
       "\n",
       "    .dataframe tbody tr th {\n",
       "        vertical-align: top;\n",
       "    }\n",
       "\n",
       "    .dataframe thead th {\n",
       "        text-align: right;\n",
       "    }\n",
       "</style>\n",
       "<table border=\"1\" class=\"dataframe\">\n",
       "  <thead>\n",
       "    <tr style=\"text-align: right;\">\n",
       "      <th></th>\n",
       "      <th>TotalExpInMonths</th>\n",
       "      <th>SalaryInLacs</th>\n",
       "      <th>Cluster</th>\n",
       "    </tr>\n",
       "  </thead>\n",
       "  <tbody>\n",
       "    <tr>\n",
       "      <th>0</th>\n",
       "      <td>0.022936</td>\n",
       "      <td>0.001791</td>\n",
       "      <td>1</td>\n",
       "    </tr>\n",
       "    <tr>\n",
       "      <th>1</th>\n",
       "      <td>0.063303</td>\n",
       "      <td>0.000000</td>\n",
       "      <td>1</td>\n",
       "    </tr>\n",
       "    <tr>\n",
       "      <th>2</th>\n",
       "      <td>0.047706</td>\n",
       "      <td>0.082723</td>\n",
       "      <td>1</td>\n",
       "    </tr>\n",
       "    <tr>\n",
       "      <th>3</th>\n",
       "      <td>0.087156</td>\n",
       "      <td>0.002094</td>\n",
       "      <td>1</td>\n",
       "    </tr>\n",
       "    <tr>\n",
       "      <th>4</th>\n",
       "      <td>0.073394</td>\n",
       "      <td>0.003194</td>\n",
       "      <td>1</td>\n",
       "    </tr>\n",
       "    <tr>\n",
       "      <th>...</th>\n",
       "      <td>...</td>\n",
       "      <td>...</td>\n",
       "      <td>...</td>\n",
       "    </tr>\n",
       "    <tr>\n",
       "      <th>28842</th>\n",
       "      <td>0.143119</td>\n",
       "      <td>0.005330</td>\n",
       "      <td>1</td>\n",
       "    </tr>\n",
       "    <tr>\n",
       "      <th>28843</th>\n",
       "      <td>0.121101</td>\n",
       "      <td>0.002094</td>\n",
       "      <td>1</td>\n",
       "    </tr>\n",
       "    <tr>\n",
       "      <th>28844</th>\n",
       "      <td>0.021101</td>\n",
       "      <td>0.000230</td>\n",
       "      <td>1</td>\n",
       "    </tr>\n",
       "    <tr>\n",
       "      <th>28845</th>\n",
       "      <td>0.062385</td>\n",
       "      <td>0.000052</td>\n",
       "      <td>1</td>\n",
       "    </tr>\n",
       "    <tr>\n",
       "      <th>28846</th>\n",
       "      <td>0.044037</td>\n",
       "      <td>0.002618</td>\n",
       "      <td>1</td>\n",
       "    </tr>\n",
       "  </tbody>\n",
       "</table>\n",
       "<p>28846 rows × 3 columns</p>\n",
       "</div>"
      ],
      "text/plain": [
       "       TotalExpInMonths  SalaryInLacs  Cluster\n",
       "0              0.022936      0.001791        1\n",
       "1              0.063303      0.000000        1\n",
       "2              0.047706      0.082723        1\n",
       "3              0.087156      0.002094        1\n",
       "4              0.073394      0.003194        1\n",
       "...                 ...           ...      ...\n",
       "28842          0.143119      0.005330        1\n",
       "28843          0.121101      0.002094        1\n",
       "28844          0.021101      0.000230        1\n",
       "28845          0.062385      0.000052        1\n",
       "28846          0.044037      0.002618        1\n",
       "\n",
       "[28846 rows x 3 columns]"
      ]
     },
     "execution_count": 51,
     "metadata": {},
     "output_type": "execute_result"
    }
   ],
   "source": [
    "df['Cluster']=y_predicted\n",
    "df"
   ]
  },
  {
   "cell_type": "code",
   "execution_count": 52,
   "id": "b0cc9c7c",
   "metadata": {},
   "outputs": [
    {
     "data": {
      "text/plain": [
       "array([[0.21539866, 0.01215221],\n",
       "       [0.08331197, 0.00542379]])"
      ]
     },
     "execution_count": 52,
     "metadata": {},
     "output_type": "execute_result"
    }
   ],
   "source": [
    "KM.cluster_centers_         #centroid points of scaled data points"
   ]
  },
  {
   "cell_type": "code",
   "execution_count": 53,
   "id": "2be7249a",
   "metadata": {},
   "outputs": [
    {
     "data": {
      "text/plain": [
       "<matplotlib.legend.Legend at 0x16bc9ff40>"
      ]
     },
     "execution_count": 53,
     "metadata": {},
     "output_type": "execute_result"
    },
    {
     "data": {
      "image/png": "[encoded data removed]",
      "text/plain": [
       "<Figure size 432x288 with 1 Axes>"
      ]
     },
     "metadata": {
      "needs_background": "light"
     },
     "output_type": "display_data"
    }
   ],
   "source": [
    "df0 = df[df.Cluster==0]\n",
    "df1 = df[df.Cluster==1]\n",
    "plt.scatter(df0.TotalExpInMonths, df0['SalaryInLacs'], color='green', label='cluster=0' )\n",
    "plt.scatter(df1.TotalExpInMonths, df1['SalaryInLacs'], color='red', label='cluster=1' )\n",
    "plt.scatter(KM.cluster_centers_[:,0], KM.cluster_centers_[:,1], color='purple',marker='*',label='centroid')\n",
    "plt.xlabel('Experience')\n",
    "plt.ylabel('Salary')\n",
    "plt.legend()"
   ]
  },
  {
   "cell_type": "code",
   "execution_count": 54,
   "id": "6df1d0b2",
   "metadata": {},
   "outputs": [
    {
     "data": {
      "text/html": [
       "<div>\n",
       "<style scoped>\n",
       "    .dataframe tbody tr th:only-of-type {\n",
       "        vertical-align: middle;\n",
       "    }\n",
       "\n",
       "    .dataframe tbody tr th {\n",
       "        vertical-align: top;\n",
       "    }\n",
       "\n",
       "    .dataframe thead th {\n",
       "        text-align: right;\n",
       "    }\n",
       "</style>\n",
       "<table border=\"1\" class=\"dataframe\">\n",
       "  <thead>\n",
       "    <tr style=\"text-align: right;\">\n",
       "      <th></th>\n",
       "      <th>TotalExpInMonths</th>\n",
       "      <th>SalaryInLacs</th>\n",
       "      <th>Cluster</th>\n",
       "    </tr>\n",
       "  </thead>\n",
       "  <tbody>\n",
       "    <tr>\n",
       "      <th>5</th>\n",
       "      <td>0.222018</td>\n",
       "      <td>0.011518</td>\n",
       "      <td>0</td>\n",
       "    </tr>\n",
       "    <tr>\n",
       "      <th>10</th>\n",
       "      <td>0.149541</td>\n",
       "      <td>0.005759</td>\n",
       "      <td>0</td>\n",
       "    </tr>\n",
       "    <tr>\n",
       "      <th>13</th>\n",
       "      <td>0.173394</td>\n",
       "      <td>0.002618</td>\n",
       "      <td>0</td>\n",
       "    </tr>\n",
       "    <tr>\n",
       "      <th>16</th>\n",
       "      <td>0.262385</td>\n",
       "      <td>0.007330</td>\n",
       "      <td>0</td>\n",
       "    </tr>\n",
       "    <tr>\n",
       "      <th>26</th>\n",
       "      <td>0.209174</td>\n",
       "      <td>0.001047</td>\n",
       "      <td>0</td>\n",
       "    </tr>\n",
       "    <tr>\n",
       "      <th>...</th>\n",
       "      <td>...</td>\n",
       "      <td>...</td>\n",
       "      <td>...</td>\n",
       "    </tr>\n",
       "    <tr>\n",
       "      <th>28823</th>\n",
       "      <td>0.193578</td>\n",
       "      <td>0.019895</td>\n",
       "      <td>0</td>\n",
       "    </tr>\n",
       "    <tr>\n",
       "      <th>28824</th>\n",
       "      <td>0.330275</td>\n",
       "      <td>0.019895</td>\n",
       "      <td>0</td>\n",
       "    </tr>\n",
       "    <tr>\n",
       "      <th>28825</th>\n",
       "      <td>0.270642</td>\n",
       "      <td>0.003141</td>\n",
       "      <td>0</td>\n",
       "    </tr>\n",
       "    <tr>\n",
       "      <th>28831</th>\n",
       "      <td>0.176147</td>\n",
       "      <td>0.015707</td>\n",
       "      <td>0</td>\n",
       "    </tr>\n",
       "    <tr>\n",
       "      <th>28837</th>\n",
       "      <td>0.165138</td>\n",
       "      <td>0.019895</td>\n",
       "      <td>0</td>\n",
       "    </tr>\n",
       "  </tbody>\n",
       "</table>\n",
       "<p>6458 rows × 3 columns</p>\n",
       "</div>"
      ],
      "text/plain": [
       "       TotalExpInMonths  SalaryInLacs  Cluster\n",
       "5              0.222018      0.011518        0\n",
       "10             0.149541      0.005759        0\n",
       "13             0.173394      0.002618        0\n",
       "16             0.262385      0.007330        0\n",
       "26             0.209174      0.001047        0\n",
       "...                 ...           ...      ...\n",
       "28823          0.193578      0.019895        0\n",
       "28824          0.330275      0.019895        0\n",
       "28825          0.270642      0.003141        0\n",
       "28831          0.176147      0.015707        0\n",
       "28837          0.165138      0.019895        0\n",
       "\n",
       "[6458 rows x 3 columns]"
      ]
     },
     "execution_count": 54,
     "metadata": {},
     "output_type": "execute_result"
    }
   ],
   "source": [
    "df0             #dataframe of cluster=0"
   ]
  },
  {
   "cell_type": "code",
   "execution_count": 55,
   "id": "b12aecad",
   "metadata": {},
   "outputs": [
    {
     "data": {
      "text/html": [
       "<div>\n",
       "<style scoped>\n",
       "    .dataframe tbody tr th:only-of-type {\n",
       "        vertical-align: middle;\n",
       "    }\n",
       "\n",
       "    .dataframe tbody tr th {\n",
       "        vertical-align: top;\n",
       "    }\n",
       "\n",
       "    .dataframe thead th {\n",
       "        text-align: right;\n",
       "    }\n",
       "</style>\n",
       "<table border=\"1\" class=\"dataframe\">\n",
       "  <thead>\n",
       "    <tr style=\"text-align: right;\">\n",
       "      <th></th>\n",
       "      <th>TotalExpInMonths</th>\n",
       "      <th>SalaryInLacs</th>\n",
       "      <th>Cluster</th>\n",
       "    </tr>\n",
       "  </thead>\n",
       "  <tbody>\n",
       "    <tr>\n",
       "      <th>0</th>\n",
       "      <td>0.022936</td>\n",
       "      <td>0.001791</td>\n",
       "      <td>1</td>\n",
       "    </tr>\n",
       "    <tr>\n",
       "      <th>1</th>\n",
       "      <td>0.063303</td>\n",
       "      <td>0.000000</td>\n",
       "      <td>1</td>\n",
       "    </tr>\n",
       "    <tr>\n",
       "      <th>2</th>\n",
       "      <td>0.047706</td>\n",
       "      <td>0.082723</td>\n",
       "      <td>1</td>\n",
       "    </tr>\n",
       "    <tr>\n",
       "      <th>3</th>\n",
       "      <td>0.087156</td>\n",
       "      <td>0.002094</td>\n",
       "      <td>1</td>\n",
       "    </tr>\n",
       "    <tr>\n",
       "      <th>4</th>\n",
       "      <td>0.073394</td>\n",
       "      <td>0.003194</td>\n",
       "      <td>1</td>\n",
       "    </tr>\n",
       "    <tr>\n",
       "      <th>...</th>\n",
       "      <td>...</td>\n",
       "      <td>...</td>\n",
       "      <td>...</td>\n",
       "    </tr>\n",
       "    <tr>\n",
       "      <th>28842</th>\n",
       "      <td>0.143119</td>\n",
       "      <td>0.005330</td>\n",
       "      <td>1</td>\n",
       "    </tr>\n",
       "    <tr>\n",
       "      <th>28843</th>\n",
       "      <td>0.121101</td>\n",
       "      <td>0.002094</td>\n",
       "      <td>1</td>\n",
       "    </tr>\n",
       "    <tr>\n",
       "      <th>28844</th>\n",
       "      <td>0.021101</td>\n",
       "      <td>0.000230</td>\n",
       "      <td>1</td>\n",
       "    </tr>\n",
       "    <tr>\n",
       "      <th>28845</th>\n",
       "      <td>0.062385</td>\n",
       "      <td>0.000052</td>\n",
       "      <td>1</td>\n",
       "    </tr>\n",
       "    <tr>\n",
       "      <th>28846</th>\n",
       "      <td>0.044037</td>\n",
       "      <td>0.002618</td>\n",
       "      <td>1</td>\n",
       "    </tr>\n",
       "  </tbody>\n",
       "</table>\n",
       "<p>22388 rows × 3 columns</p>\n",
       "</div>"
      ],
      "text/plain": [
       "       TotalExpInMonths  SalaryInLacs  Cluster\n",
       "0              0.022936      0.001791        1\n",
       "1              0.063303      0.000000        1\n",
       "2              0.047706      0.082723        1\n",
       "3              0.087156      0.002094        1\n",
       "4              0.073394      0.003194        1\n",
       "...                 ...           ...      ...\n",
       "28842          0.143119      0.005330        1\n",
       "28843          0.121101      0.002094        1\n",
       "28844          0.021101      0.000230        1\n",
       "28845          0.062385      0.000052        1\n",
       "28846          0.044037      0.002618        1\n",
       "\n",
       "[22388 rows x 3 columns]"
      ]
     },
     "execution_count": 55,
     "metadata": {},
     "output_type": "execute_result"
    }
   ],
   "source": [
    "df1             #dataframe of cluster=1"
   ]
  },
  {
   "cell_type": "code",
   "execution_count": 56,
   "id": "fb0fc881",
   "metadata": {},
   "outputs": [],
   "source": [
    "df = pd.concat([df0, df1])"
   ]
  },
  {
   "cell_type": "code",
   "execution_count": 57,
   "id": "869c9724",
   "metadata": {},
   "outputs": [],
   "source": [
    "df.to_csv('./result.csv',index=False)"
   ]
  },
  {
   "cell_type": "code",
   "execution_count": null,
   "id": "0533ce6e",
   "metadata": {},
   "outputs": [],
   "source": []
  }
 ],
 "metadata": {
  "kernelspec": {
   "display_name": "Python 3 (ipykernel)",
   "language": "python",
   "name": "python3"
  },
  "language_info": {
   "codemirror_mode": {
    "name": "ipython",
    "version": 3
   },
   "file_extension": ".py",
   "mimetype": "text/x-python",
   "name": "python",
   "nbconvert_exporter": "python",
   "pygments_lexer": "ipython3",
   "version": "3.8.6"
  }
 },
 "nbformat": 4,
 "nbformat_minor": 5
}
